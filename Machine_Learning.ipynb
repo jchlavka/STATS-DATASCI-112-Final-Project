{
  "cells": [
    {
      "cell_type": "markdown",
      "source": [
        "# Machine Learning"
      ],
      "metadata": {
        "id": "nfPURztZf92L"
      }
    },
    {
      "cell_type": "code",
      "source": [
        "from google.colab import drive\n",
        "drive.mount('/content/drive')\n",
        "import pandas as pd\n",
        "from google.colab import files\n",
        "import numpy as np\n",
        "import plotly.express as px\n",
        "from sklearn.neighbors import KNeighborsRegressor\n",
        "from sklearn.pipeline import make_pipeline\n",
        "from sklearn.model_selection import cross_val_score\n",
        "from sklearn.preprocessing import StandardScaler\n",
        "from sklearn.linear_model import LinearRegression\n",
        "from xgboost import XGBRegressor\n",
        "from sklearn.ensemble import VotingRegressor, StackingRegressor\n",
        "from sklearn.model_selection import RandomizedSearchCV\n",
        "from scipy.stats import uniform, randint"
      ],
      "metadata": {
        "id": "BMjSNSgAyIOc",
        "colab": {
          "base_uri": "https://localhost:8080/"
        },
        "outputId": "a6a3a481-a2d1-4d4b-a033-7b0c863b9bc2"
      },
      "execution_count": 1,
      "outputs": [
        {
          "output_type": "stream",
          "name": "stdout",
          "text": [
            "Mounted at /content/drive\n"
          ]
        }
      ]
    },
    {
      "cell_type": "markdown",
      "source": [
        "## No Energy Dataframe Production"
      ],
      "metadata": {
        "id": "d9i5mzU5wwT2"
      }
    },
    {
      "cell_type": "code",
      "source": [
        "df_emissions = pd.read_csv(\"/content/drive/MyDrive/Colab Notebooks/DataSci \\\n",
        "112/Final Project/Processed Data/All Ems.csv\", index_col=0)\n",
        "df_urban_pop = pd.read_csv(\"/content/drive/MyDrive/Colab Notebooks/DataSci \\\n",
        "112/Final Project/Processed Data/All Urban Pop.csv\", index_col=0)\n",
        "df_pop = pd.read_csv(\"/content/drive/MyDrive/Colab Notebooks/DataSci 112/Final \\\n",
        "Project/Processed Data/All Pop.csv\", index_col=0)\n",
        "df_gdp = pd.read_csv(\"/content/drive/MyDrive/Colab Notebooks/DataSci 112/Final \\\n",
        "Project/Processed Data/All GDP.csv\", index_col=0)\n",
        "df_el = pd.read_csv(\"/content/drive/MyDrive/Colab Notebooks/DataSci 112/Final \\\n",
        "Project/Processed Data/All El.csv\", index_col=0)\n",
        "df_fdi = pd.read_csv(\"/content/drive/MyDrive/Colab Notebooks/DataSci 112/Final \\\n",
        "Project/Processed Data/All FDI.csv\", index_col=0)\n",
        "df_fort = pd.read_csv(\"/content/drive/MyDrive/Colab Notebooks/DataSci 112/Final \\\n",
        "Project/Processed Data/All Fortune 500.csv\", index_col=0)"
      ],
      "metadata": {
        "id": "fws4yUiKyh-H"
      },
      "execution_count": 2,
      "outputs": []
    },
    {
      "cell_type": "code",
      "source": [
        "s1 = df_emissions.merge(df_urban_pop, on=(\"name\", \"year\"), how=\"inner\")\n",
        "s2 = s1.merge(df_pop, on=(\"name\", \"year\"), how=\"inner\")\n",
        "s3 = s2.merge(df_gdp.drop(\"name\", axis=1), on=(\"code\", \"year\"), how=\"inner\")\n",
        "s4 = s3.merge(df_el[~df_el[\"electrification\"].isna()].drop(\"name\", axis=1), \n",
        "              on=(\"code\", \"year\"), how=\"inner\")\n",
        "s5 = s4.merge(df_fdi.drop(\"name\", axis=1), on=(\"code\", \"year\"), how=\"inner\")\n",
        "s6 = s5.merge(df_fort.rename(columns={\"Company\":\"Number of Fortune 500\"}),\n",
        "              left_on=(\"name\", \"year\"), right_on=(\"Country\", \"Year\"),\n",
        "              how=\"left\")#.drop([\"Country\", \"Year\"], axis=1)\n",
        "df_ml = s6[[\"name\", \"code\", \"year\", \"population\", \"urban population percentage\",\n",
        "         \"gdp\", \"electrification\", \"fdi\", \"Number of Fortune 500\", \n",
        "         \"emissions\"]].rename(columns={\n",
        "             \"name\":\"Country\",\n",
        "             \"code\":\"Code\",\n",
        "             \"year\":\"Year\",\n",
        "             \"emissions\":\"Emissions (Tons CO2)\",\n",
        "             \"population\":\"Population\",\n",
        "             \"urban population percentage\":\"Urban Percentage\",\n",
        "             \"gdp\":\"GDP Per Capita (USD)\",\n",
        "             \"electrification\":\"Electrification Percentage\",\n",
        "             \"fdi\":\"FDI (USD)\"\n",
        "         })\n",
        "df_ml[\"Population\"] *= 1000\n",
        "df_ml[\"FDI (USD)\"] = df_ml[\"FDI (USD)\"].astype(int)\n",
        "df_ml[\"GDP Per Capita (USD)\"] = df_ml[\"GDP Per Capita (USD)\"].astype(int)\n",
        "df_ml[\"Electrification Percentage\"] = df_ml[\"Electrification Percentage\"].round(1)\n",
        "df_ml[\"Emissions (Tons CO2)\"] = df_ml[\"Emissions (Tons CO2)\"].astype(int)\n",
        "df_ml[\"Number of Fortune 500\"] = df_ml[\"Number of Fortune 500\"]\\\n",
        "  .fillna(0).astype(int)\n",
        "df_ml"
      ],
      "metadata": {
        "colab": {
          "base_uri": "https://localhost:8080/",
          "height": 627
        },
        "id": "Tt-Pn1CIgdKS",
        "outputId": "6016025d-d138-48af-95ad-a2fb05c94aac"
      },
      "execution_count": 3,
      "outputs": [
        {
          "output_type": "execute_result",
          "data": {
            "text/plain": [
              "               Country Code  Year  Population  Urban Percentage  \\\n",
              "0            Australia  AUS  1990    17041000              85.4   \n",
              "1            Australia  AUS  1991    17272000              85.4   \n",
              "2            Australia  AUS  1992    17486000              85.3   \n",
              "3            Australia  AUS  1993    17687000              85.2   \n",
              "4            Australia  AUS  1994    17883000              85.0   \n",
              "...                ...  ...   ...         ...               ...   \n",
              "3006  Marshall Islands  MHL  2012       53000              74.5   \n",
              "3007  Marshall Islands  MHL  2013       53000              74.9   \n",
              "3008  Marshall Islands  MHL  2014       53000              75.4   \n",
              "3009  Marshall Islands  MHL  2017       53000              76.6   \n",
              "3010  Marshall Islands  MHL  2018       53000              77.0   \n",
              "\n",
              "      GDP Per Capita (USD)  Electrification Percentage   FDI (USD)  \\\n",
              "0                    18249                       100.0  8457776859   \n",
              "1                    18860                       100.0  2612066526   \n",
              "2                    18624                       100.0  4941906671   \n",
              "3                    17700                       100.0  5312435141   \n",
              "4                    18129                       100.0  4458484243   \n",
              "...                    ...                         ...         ...   \n",
              "3006                  3445                        90.6    21373811   \n",
              "3007                  3611                        91.2    32548149   \n",
              "3008                  3672                        91.8     9047685   \n",
              "3009                  4507                        94.3     5835497   \n",
              "3010                  4769                        95.9     9752051   \n",
              "\n",
              "      Number of Fortune 500  Emissions (Tons CO2)  \n",
              "0                         0             278154140  \n",
              "1                         0             279528500  \n",
              "2                         0             284525380  \n",
              "3                         0             288870560  \n",
              "4                         0             293696580  \n",
              "...                     ...                   ...  \n",
              "3006                      0                135568  \n",
              "3007                      0                139232  \n",
              "3008                      0                142896  \n",
              "3009                      0                146560  \n",
              "3010                      0                146560  \n",
              "\n",
              "[3011 rows x 10 columns]"
            ],
            "text/html": [
              "\n",
              "  <div id=\"df-18722748-1015-404e-bc98-58d884251690\">\n",
              "    <div class=\"colab-df-container\">\n",
              "      <div>\n",
              "<style scoped>\n",
              "    .dataframe tbody tr th:only-of-type {\n",
              "        vertical-align: middle;\n",
              "    }\n",
              "\n",
              "    .dataframe tbody tr th {\n",
              "        vertical-align: top;\n",
              "    }\n",
              "\n",
              "    .dataframe thead th {\n",
              "        text-align: right;\n",
              "    }\n",
              "</style>\n",
              "<table border=\"1\" class=\"dataframe\">\n",
              "  <thead>\n",
              "    <tr style=\"text-align: right;\">\n",
              "      <th></th>\n",
              "      <th>Country</th>\n",
              "      <th>Code</th>\n",
              "      <th>Year</th>\n",
              "      <th>Population</th>\n",
              "      <th>Urban Percentage</th>\n",
              "      <th>GDP Per Capita (USD)</th>\n",
              "      <th>Electrification Percentage</th>\n",
              "      <th>FDI (USD)</th>\n",
              "      <th>Number of Fortune 500</th>\n",
              "      <th>Emissions (Tons CO2)</th>\n",
              "    </tr>\n",
              "  </thead>\n",
              "  <tbody>\n",
              "    <tr>\n",
              "      <th>0</th>\n",
              "      <td>Australia</td>\n",
              "      <td>AUS</td>\n",
              "      <td>1990</td>\n",
              "      <td>17041000</td>\n",
              "      <td>85.4</td>\n",
              "      <td>18249</td>\n",
              "      <td>100.0</td>\n",
              "      <td>8457776859</td>\n",
              "      <td>0</td>\n",
              "      <td>278154140</td>\n",
              "    </tr>\n",
              "    <tr>\n",
              "      <th>1</th>\n",
              "      <td>Australia</td>\n",
              "      <td>AUS</td>\n",
              "      <td>1991</td>\n",
              "      <td>17272000</td>\n",
              "      <td>85.4</td>\n",
              "      <td>18860</td>\n",
              "      <td>100.0</td>\n",
              "      <td>2612066526</td>\n",
              "      <td>0</td>\n",
              "      <td>279528500</td>\n",
              "    </tr>\n",
              "    <tr>\n",
              "      <th>2</th>\n",
              "      <td>Australia</td>\n",
              "      <td>AUS</td>\n",
              "      <td>1992</td>\n",
              "      <td>17486000</td>\n",
              "      <td>85.3</td>\n",
              "      <td>18624</td>\n",
              "      <td>100.0</td>\n",
              "      <td>4941906671</td>\n",
              "      <td>0</td>\n",
              "      <td>284525380</td>\n",
              "    </tr>\n",
              "    <tr>\n",
              "      <th>3</th>\n",
              "      <td>Australia</td>\n",
              "      <td>AUS</td>\n",
              "      <td>1993</td>\n",
              "      <td>17687000</td>\n",
              "      <td>85.2</td>\n",
              "      <td>17700</td>\n",
              "      <td>100.0</td>\n",
              "      <td>5312435141</td>\n",
              "      <td>0</td>\n",
              "      <td>288870560</td>\n",
              "    </tr>\n",
              "    <tr>\n",
              "      <th>4</th>\n",
              "      <td>Australia</td>\n",
              "      <td>AUS</td>\n",
              "      <td>1994</td>\n",
              "      <td>17883000</td>\n",
              "      <td>85.0</td>\n",
              "      <td>18129</td>\n",
              "      <td>100.0</td>\n",
              "      <td>4458484243</td>\n",
              "      <td>0</td>\n",
              "      <td>293696580</td>\n",
              "    </tr>\n",
              "    <tr>\n",
              "      <th>...</th>\n",
              "      <td>...</td>\n",
              "      <td>...</td>\n",
              "      <td>...</td>\n",
              "      <td>...</td>\n",
              "      <td>...</td>\n",
              "      <td>...</td>\n",
              "      <td>...</td>\n",
              "      <td>...</td>\n",
              "      <td>...</td>\n",
              "      <td>...</td>\n",
              "    </tr>\n",
              "    <tr>\n",
              "      <th>3006</th>\n",
              "      <td>Marshall Islands</td>\n",
              "      <td>MHL</td>\n",
              "      <td>2012</td>\n",
              "      <td>53000</td>\n",
              "      <td>74.5</td>\n",
              "      <td>3445</td>\n",
              "      <td>90.6</td>\n",
              "      <td>21373811</td>\n",
              "      <td>0</td>\n",
              "      <td>135568</td>\n",
              "    </tr>\n",
              "    <tr>\n",
              "      <th>3007</th>\n",
              "      <td>Marshall Islands</td>\n",
              "      <td>MHL</td>\n",
              "      <td>2013</td>\n",
              "      <td>53000</td>\n",
              "      <td>74.9</td>\n",
              "      <td>3611</td>\n",
              "      <td>91.2</td>\n",
              "      <td>32548149</td>\n",
              "      <td>0</td>\n",
              "      <td>139232</td>\n",
              "    </tr>\n",
              "    <tr>\n",
              "      <th>3008</th>\n",
              "      <td>Marshall Islands</td>\n",
              "      <td>MHL</td>\n",
              "      <td>2014</td>\n",
              "      <td>53000</td>\n",
              "      <td>75.4</td>\n",
              "      <td>3672</td>\n",
              "      <td>91.8</td>\n",
              "      <td>9047685</td>\n",
              "      <td>0</td>\n",
              "      <td>142896</td>\n",
              "    </tr>\n",
              "    <tr>\n",
              "      <th>3009</th>\n",
              "      <td>Marshall Islands</td>\n",
              "      <td>MHL</td>\n",
              "      <td>2017</td>\n",
              "      <td>53000</td>\n",
              "      <td>76.6</td>\n",
              "      <td>4507</td>\n",
              "      <td>94.3</td>\n",
              "      <td>5835497</td>\n",
              "      <td>0</td>\n",
              "      <td>146560</td>\n",
              "    </tr>\n",
              "    <tr>\n",
              "      <th>3010</th>\n",
              "      <td>Marshall Islands</td>\n",
              "      <td>MHL</td>\n",
              "      <td>2018</td>\n",
              "      <td>53000</td>\n",
              "      <td>77.0</td>\n",
              "      <td>4769</td>\n",
              "      <td>95.9</td>\n",
              "      <td>9752051</td>\n",
              "      <td>0</td>\n",
              "      <td>146560</td>\n",
              "    </tr>\n",
              "  </tbody>\n",
              "</table>\n",
              "<p>3011 rows × 10 columns</p>\n",
              "</div>\n",
              "      <button class=\"colab-df-convert\" onclick=\"convertToInteractive('df-18722748-1015-404e-bc98-58d884251690')\"\n",
              "              title=\"Convert this dataframe to an interactive table.\"\n",
              "              style=\"display:none;\">\n",
              "        \n",
              "  <svg xmlns=\"http://www.w3.org/2000/svg\" height=\"24px\"viewBox=\"0 0 24 24\"\n",
              "       width=\"24px\">\n",
              "    <path d=\"M0 0h24v24H0V0z\" fill=\"none\"/>\n",
              "    <path d=\"M18.56 5.44l.94 2.06.94-2.06 2.06-.94-2.06-.94-.94-2.06-.94 2.06-2.06.94zm-11 1L8.5 8.5l.94-2.06 2.06-.94-2.06-.94L8.5 2.5l-.94 2.06-2.06.94zm10 10l.94 2.06.94-2.06 2.06-.94-2.06-.94-.94-2.06-.94 2.06-2.06.94z\"/><path d=\"M17.41 7.96l-1.37-1.37c-.4-.4-.92-.59-1.43-.59-.52 0-1.04.2-1.43.59L10.3 9.45l-7.72 7.72c-.78.78-.78 2.05 0 2.83L4 21.41c.39.39.9.59 1.41.59.51 0 1.02-.2 1.41-.59l7.78-7.78 2.81-2.81c.8-.78.8-2.07 0-2.86zM5.41 20L4 18.59l7.72-7.72 1.47 1.35L5.41 20z\"/>\n",
              "  </svg>\n",
              "      </button>\n",
              "      \n",
              "  <style>\n",
              "    .colab-df-container {\n",
              "      display:flex;\n",
              "      flex-wrap:wrap;\n",
              "      gap: 12px;\n",
              "    }\n",
              "\n",
              "    .colab-df-convert {\n",
              "      background-color: #E8F0FE;\n",
              "      border: none;\n",
              "      border-radius: 50%;\n",
              "      cursor: pointer;\n",
              "      display: none;\n",
              "      fill: #1967D2;\n",
              "      height: 32px;\n",
              "      padding: 0 0 0 0;\n",
              "      width: 32px;\n",
              "    }\n",
              "\n",
              "    .colab-df-convert:hover {\n",
              "      background-color: #E2EBFA;\n",
              "      box-shadow: 0px 1px 2px rgba(60, 64, 67, 0.3), 0px 1px 3px 1px rgba(60, 64, 67, 0.15);\n",
              "      fill: #174EA6;\n",
              "    }\n",
              "\n",
              "    [theme=dark] .colab-df-convert {\n",
              "      background-color: #3B4455;\n",
              "      fill: #D2E3FC;\n",
              "    }\n",
              "\n",
              "    [theme=dark] .colab-df-convert:hover {\n",
              "      background-color: #434B5C;\n",
              "      box-shadow: 0px 1px 3px 1px rgba(0, 0, 0, 0.15);\n",
              "      filter: drop-shadow(0px 1px 2px rgba(0, 0, 0, 0.3));\n",
              "      fill: #FFFFFF;\n",
              "    }\n",
              "  </style>\n",
              "\n",
              "      <script>\n",
              "        const buttonEl =\n",
              "          document.querySelector('#df-18722748-1015-404e-bc98-58d884251690 button.colab-df-convert');\n",
              "        buttonEl.style.display =\n",
              "          google.colab.kernel.accessAllowed ? 'block' : 'none';\n",
              "\n",
              "        async function convertToInteractive(key) {\n",
              "          const element = document.querySelector('#df-18722748-1015-404e-bc98-58d884251690');\n",
              "          const dataTable =\n",
              "            await google.colab.kernel.invokeFunction('convertToInteractive',\n",
              "                                                     [key], {});\n",
              "          if (!dataTable) return;\n",
              "\n",
              "          const docLinkHtml = 'Like what you see? Visit the ' +\n",
              "            '<a target=\"_blank\" href=https://colab.research.google.com/notebooks/data_table.ipynb>data table notebook</a>'\n",
              "            + ' to learn more about interactive tables.';\n",
              "          element.innerHTML = '';\n",
              "          dataTable['output_type'] = 'display_data';\n",
              "          await google.colab.output.renderOutput(dataTable, element);\n",
              "          const docLink = document.createElement('div');\n",
              "          docLink.innerHTML = docLinkHtml;\n",
              "          element.appendChild(docLink);\n",
              "        }\n",
              "      </script>\n",
              "    </div>\n",
              "  </div>\n",
              "  "
            ]
          },
          "metadata": {},
          "execution_count": 3
        }
      ]
    },
    {
      "cell_type": "code",
      "source": [
        "df_ml_processed = df_ml.drop([\"Country\", \"Code\", \"Year\"], axis=1)\n",
        "df_ml_processed[\"Years Ago\"] = df_ml[\"Year\"] - df_ml[\"Year\"].min()\n",
        "df_ml_processed = df_ml_processed[[\"Years Ago\", \"Population\", \"Urban Percentage\",\n",
        "                                   \"GDP Per Capita (USD)\",\n",
        "                                   \"Electrification Percentage\", \"FDI (USD)\",\n",
        "                                   \"Number of Fortune 500\", \n",
        "                                   \"Emissions (Tons CO2)\"]]\n",
        "df_ml_processed"
      ],
      "metadata": {
        "colab": {
          "base_uri": "https://localhost:8080/",
          "height": 520
        },
        "id": "hBC_ivxy0RaP",
        "outputId": "293aaeec-1128-42dc-b880-e9506419c17d"
      },
      "execution_count": 4,
      "outputs": [
        {
          "output_type": "execute_result",
          "data": {
            "text/plain": [
              "      Years Ago  Population  Urban Percentage  GDP Per Capita (USD)  \\\n",
              "0             0    17041000              85.4                 18249   \n",
              "1             1    17272000              85.4                 18860   \n",
              "2             2    17486000              85.3                 18624   \n",
              "3             3    17687000              85.2                 17700   \n",
              "4             4    17883000              85.0                 18129   \n",
              "...         ...         ...               ...                   ...   \n",
              "3006         22       53000              74.5                  3445   \n",
              "3007         23       53000              74.9                  3611   \n",
              "3008         24       53000              75.4                  3672   \n",
              "3009         27       53000              76.6                  4507   \n",
              "3010         28       53000              77.0                  4769   \n",
              "\n",
              "      Electrification Percentage   FDI (USD)  Number of Fortune 500  \\\n",
              "0                          100.0  8457776859                      0   \n",
              "1                          100.0  2612066526                      0   \n",
              "2                          100.0  4941906671                      0   \n",
              "3                          100.0  5312435141                      0   \n",
              "4                          100.0  4458484243                      0   \n",
              "...                          ...         ...                    ...   \n",
              "3006                        90.6    21373811                      0   \n",
              "3007                        91.2    32548149                      0   \n",
              "3008                        91.8     9047685                      0   \n",
              "3009                        94.3     5835497                      0   \n",
              "3010                        95.9     9752051                      0   \n",
              "\n",
              "      Emissions (Tons CO2)  \n",
              "0                278154140  \n",
              "1                279528500  \n",
              "2                284525380  \n",
              "3                288870560  \n",
              "4                293696580  \n",
              "...                    ...  \n",
              "3006                135568  \n",
              "3007                139232  \n",
              "3008                142896  \n",
              "3009                146560  \n",
              "3010                146560  \n",
              "\n",
              "[3011 rows x 8 columns]"
            ],
            "text/html": [
              "\n",
              "  <div id=\"df-e2d9f03c-7c07-4853-b163-e2c84fd9d788\">\n",
              "    <div class=\"colab-df-container\">\n",
              "      <div>\n",
              "<style scoped>\n",
              "    .dataframe tbody tr th:only-of-type {\n",
              "        vertical-align: middle;\n",
              "    }\n",
              "\n",
              "    .dataframe tbody tr th {\n",
              "        vertical-align: top;\n",
              "    }\n",
              "\n",
              "    .dataframe thead th {\n",
              "        text-align: right;\n",
              "    }\n",
              "</style>\n",
              "<table border=\"1\" class=\"dataframe\">\n",
              "  <thead>\n",
              "    <tr style=\"text-align: right;\">\n",
              "      <th></th>\n",
              "      <th>Years Ago</th>\n",
              "      <th>Population</th>\n",
              "      <th>Urban Percentage</th>\n",
              "      <th>GDP Per Capita (USD)</th>\n",
              "      <th>Electrification Percentage</th>\n",
              "      <th>FDI (USD)</th>\n",
              "      <th>Number of Fortune 500</th>\n",
              "      <th>Emissions (Tons CO2)</th>\n",
              "    </tr>\n",
              "  </thead>\n",
              "  <tbody>\n",
              "    <tr>\n",
              "      <th>0</th>\n",
              "      <td>0</td>\n",
              "      <td>17041000</td>\n",
              "      <td>85.4</td>\n",
              "      <td>18249</td>\n",
              "      <td>100.0</td>\n",
              "      <td>8457776859</td>\n",
              "      <td>0</td>\n",
              "      <td>278154140</td>\n",
              "    </tr>\n",
              "    <tr>\n",
              "      <th>1</th>\n",
              "      <td>1</td>\n",
              "      <td>17272000</td>\n",
              "      <td>85.4</td>\n",
              "      <td>18860</td>\n",
              "      <td>100.0</td>\n",
              "      <td>2612066526</td>\n",
              "      <td>0</td>\n",
              "      <td>279528500</td>\n",
              "    </tr>\n",
              "    <tr>\n",
              "      <th>2</th>\n",
              "      <td>2</td>\n",
              "      <td>17486000</td>\n",
              "      <td>85.3</td>\n",
              "      <td>18624</td>\n",
              "      <td>100.0</td>\n",
              "      <td>4941906671</td>\n",
              "      <td>0</td>\n",
              "      <td>284525380</td>\n",
              "    </tr>\n",
              "    <tr>\n",
              "      <th>3</th>\n",
              "      <td>3</td>\n",
              "      <td>17687000</td>\n",
              "      <td>85.2</td>\n",
              "      <td>17700</td>\n",
              "      <td>100.0</td>\n",
              "      <td>5312435141</td>\n",
              "      <td>0</td>\n",
              "      <td>288870560</td>\n",
              "    </tr>\n",
              "    <tr>\n",
              "      <th>4</th>\n",
              "      <td>4</td>\n",
              "      <td>17883000</td>\n",
              "      <td>85.0</td>\n",
              "      <td>18129</td>\n",
              "      <td>100.0</td>\n",
              "      <td>4458484243</td>\n",
              "      <td>0</td>\n",
              "      <td>293696580</td>\n",
              "    </tr>\n",
              "    <tr>\n",
              "      <th>...</th>\n",
              "      <td>...</td>\n",
              "      <td>...</td>\n",
              "      <td>...</td>\n",
              "      <td>...</td>\n",
              "      <td>...</td>\n",
              "      <td>...</td>\n",
              "      <td>...</td>\n",
              "      <td>...</td>\n",
              "    </tr>\n",
              "    <tr>\n",
              "      <th>3006</th>\n",
              "      <td>22</td>\n",
              "      <td>53000</td>\n",
              "      <td>74.5</td>\n",
              "      <td>3445</td>\n",
              "      <td>90.6</td>\n",
              "      <td>21373811</td>\n",
              "      <td>0</td>\n",
              "      <td>135568</td>\n",
              "    </tr>\n",
              "    <tr>\n",
              "      <th>3007</th>\n",
              "      <td>23</td>\n",
              "      <td>53000</td>\n",
              "      <td>74.9</td>\n",
              "      <td>3611</td>\n",
              "      <td>91.2</td>\n",
              "      <td>32548149</td>\n",
              "      <td>0</td>\n",
              "      <td>139232</td>\n",
              "    </tr>\n",
              "    <tr>\n",
              "      <th>3008</th>\n",
              "      <td>24</td>\n",
              "      <td>53000</td>\n",
              "      <td>75.4</td>\n",
              "      <td>3672</td>\n",
              "      <td>91.8</td>\n",
              "      <td>9047685</td>\n",
              "      <td>0</td>\n",
              "      <td>142896</td>\n",
              "    </tr>\n",
              "    <tr>\n",
              "      <th>3009</th>\n",
              "      <td>27</td>\n",
              "      <td>53000</td>\n",
              "      <td>76.6</td>\n",
              "      <td>4507</td>\n",
              "      <td>94.3</td>\n",
              "      <td>5835497</td>\n",
              "      <td>0</td>\n",
              "      <td>146560</td>\n",
              "    </tr>\n",
              "    <tr>\n",
              "      <th>3010</th>\n",
              "      <td>28</td>\n",
              "      <td>53000</td>\n",
              "      <td>77.0</td>\n",
              "      <td>4769</td>\n",
              "      <td>95.9</td>\n",
              "      <td>9752051</td>\n",
              "      <td>0</td>\n",
              "      <td>146560</td>\n",
              "    </tr>\n",
              "  </tbody>\n",
              "</table>\n",
              "<p>3011 rows × 8 columns</p>\n",
              "</div>\n",
              "      <button class=\"colab-df-convert\" onclick=\"convertToInteractive('df-e2d9f03c-7c07-4853-b163-e2c84fd9d788')\"\n",
              "              title=\"Convert this dataframe to an interactive table.\"\n",
              "              style=\"display:none;\">\n",
              "        \n",
              "  <svg xmlns=\"http://www.w3.org/2000/svg\" height=\"24px\"viewBox=\"0 0 24 24\"\n",
              "       width=\"24px\">\n",
              "    <path d=\"M0 0h24v24H0V0z\" fill=\"none\"/>\n",
              "    <path d=\"M18.56 5.44l.94 2.06.94-2.06 2.06-.94-2.06-.94-.94-2.06-.94 2.06-2.06.94zm-11 1L8.5 8.5l.94-2.06 2.06-.94-2.06-.94L8.5 2.5l-.94 2.06-2.06.94zm10 10l.94 2.06.94-2.06 2.06-.94-2.06-.94-.94-2.06-.94 2.06-2.06.94z\"/><path d=\"M17.41 7.96l-1.37-1.37c-.4-.4-.92-.59-1.43-.59-.52 0-1.04.2-1.43.59L10.3 9.45l-7.72 7.72c-.78.78-.78 2.05 0 2.83L4 21.41c.39.39.9.59 1.41.59.51 0 1.02-.2 1.41-.59l7.78-7.78 2.81-2.81c.8-.78.8-2.07 0-2.86zM5.41 20L4 18.59l7.72-7.72 1.47 1.35L5.41 20z\"/>\n",
              "  </svg>\n",
              "      </button>\n",
              "      \n",
              "  <style>\n",
              "    .colab-df-container {\n",
              "      display:flex;\n",
              "      flex-wrap:wrap;\n",
              "      gap: 12px;\n",
              "    }\n",
              "\n",
              "    .colab-df-convert {\n",
              "      background-color: #E8F0FE;\n",
              "      border: none;\n",
              "      border-radius: 50%;\n",
              "      cursor: pointer;\n",
              "      display: none;\n",
              "      fill: #1967D2;\n",
              "      height: 32px;\n",
              "      padding: 0 0 0 0;\n",
              "      width: 32px;\n",
              "    }\n",
              "\n",
              "    .colab-df-convert:hover {\n",
              "      background-color: #E2EBFA;\n",
              "      box-shadow: 0px 1px 2px rgba(60, 64, 67, 0.3), 0px 1px 3px 1px rgba(60, 64, 67, 0.15);\n",
              "      fill: #174EA6;\n",
              "    }\n",
              "\n",
              "    [theme=dark] .colab-df-convert {\n",
              "      background-color: #3B4455;\n",
              "      fill: #D2E3FC;\n",
              "    }\n",
              "\n",
              "    [theme=dark] .colab-df-convert:hover {\n",
              "      background-color: #434B5C;\n",
              "      box-shadow: 0px 1px 3px 1px rgba(0, 0, 0, 0.15);\n",
              "      filter: drop-shadow(0px 1px 2px rgba(0, 0, 0, 0.3));\n",
              "      fill: #FFFFFF;\n",
              "    }\n",
              "  </style>\n",
              "\n",
              "      <script>\n",
              "        const buttonEl =\n",
              "          document.querySelector('#df-e2d9f03c-7c07-4853-b163-e2c84fd9d788 button.colab-df-convert');\n",
              "        buttonEl.style.display =\n",
              "          google.colab.kernel.accessAllowed ? 'block' : 'none';\n",
              "\n",
              "        async function convertToInteractive(key) {\n",
              "          const element = document.querySelector('#df-e2d9f03c-7c07-4853-b163-e2c84fd9d788');\n",
              "          const dataTable =\n",
              "            await google.colab.kernel.invokeFunction('convertToInteractive',\n",
              "                                                     [key], {});\n",
              "          if (!dataTable) return;\n",
              "\n",
              "          const docLinkHtml = 'Like what you see? Visit the ' +\n",
              "            '<a target=\"_blank\" href=https://colab.research.google.com/notebooks/data_table.ipynb>data table notebook</a>'\n",
              "            + ' to learn more about interactive tables.';\n",
              "          element.innerHTML = '';\n",
              "          dataTable['output_type'] = 'display_data';\n",
              "          await google.colab.output.renderOutput(dataTable, element);\n",
              "          const docLink = document.createElement('div');\n",
              "          docLink.innerHTML = docLinkHtml;\n",
              "          element.appendChild(docLink);\n",
              "        }\n",
              "      </script>\n",
              "    </div>\n",
              "  </div>\n",
              "  "
            ]
          },
          "metadata": {},
          "execution_count": 4
        }
      ]
    },
    {
      "cell_type": "code",
      "source": [
        "df_ml_processed[\"Emissions (Tons CO2)\"].describe()"
      ],
      "metadata": {
        "colab": {
          "base_uri": "https://localhost:8080/"
        },
        "id": "-4vC_I_evOmC",
        "outputId": "2efb8546-c7f6-40b0-9dd2-abc3c5f2154a"
      },
      "execution_count": 5,
      "outputs": [
        {
          "output_type": "execute_result",
          "data": {
            "text/plain": [
              "count    3.011000e+03\n",
              "mean     1.583315e+08\n",
              "std      7.195824e+08\n",
              "min      7.734000e+03\n",
              "25%      1.961334e+06\n",
              "50%      1.094802e+07\n",
              "75%      7.488019e+07\n",
              "max      1.095621e+10\n",
              "Name: Emissions (Tons CO2), dtype: float64"
            ]
          },
          "metadata": {},
          "execution_count": 5
        }
      ]
    },
    {
      "cell_type": "markdown",
      "source": [
        "## Energy Dataframe Production"
      ],
      "metadata": {
        "id": "rPFL3A-tx2nE"
      }
    },
    {
      "cell_type": "code",
      "source": [
        "paths = [\n",
        "\"/content/drive/MyDrive/Colab Notebooks/DataSci 112/Final Project/Processed \\\n",
        "Data/Country biofuel_share_energy by Year\", \n",
        "\"/content/drive/MyDrive/Colab Notebooks/DataSci 112/Final Project/Processed \\\n",
        "Data/Country coal_share_energy by Year\", \n",
        "\"/content/drive/MyDrive/Colab Notebooks/DataSci 112/Final Project/Processed \\\n",
        "Data/Country fossil_share_energy by Year\", \n",
        "\"/content/drive/MyDrive/Colab Notebooks/DataSci 112/Final Project/Processed \\\n",
        "Data/Country gas_share_energy by Year\",\n",
        "\"/content/drive/MyDrive/Colab Notebooks/DataSci 112/Final Project/Processed \\\n",
        "Data/Country oil_share_energy by Year\"\n",
        "]\n",
        "metrics = [\"Biofuel Share (%)\", \"Coal Share (%)\", \"Fossil Fuel Share (%)\", \n",
        "           \"Gas Share (%)\", \"Oil Share (%)\"]"
      ],
      "metadata": {
        "id": "IsQ4JEtCx6ew"
      },
      "execution_count": 6,
      "outputs": []
    },
    {
      "cell_type": "code",
      "source": [
        "df_ml_pre = df_ml\n",
        "for p in range(5):\n",
        "  df = pd.read_csv(paths[p]).drop(\"Unnamed: 0\", axis=1)\n",
        "  data = []\n",
        "  for i in range(242):\n",
        "    for j in range(2, 123):\n",
        "      if df.iloc[i, j] > 0:\n",
        "        data.append((df.iloc[i, 0], df.iloc[i, 1], df.columns[j], \n",
        "                    df.iloc[i, j]))\n",
        "  df_full = pd.DataFrame(data, columns=[\"code\", \"name\", \"year\", metrics[p]])\n",
        "  df_full[\"year\"] = df_full[\"year\"].str[-4:].astype(int)\n",
        "  df_full[\"name\"] = df_full[\"name\"].str.strip()\n",
        "  df_full = df_full.rename(columns={\"code\":\"Code\", \"year\":\"Year\"})\n",
        "  df_ml_pre = df_ml_pre.merge(df_full.drop(\"name\", axis=1),\n",
        "                                on=(\"Code\", \"Year\"), how=\"left\")\n",
        "df_ml_pre"
      ],
      "metadata": {
        "colab": {
          "base_uri": "https://localhost:8080/",
          "height": 627
        },
        "id": "4nttitgimhUX",
        "outputId": "658cce3c-a87c-4d2d-eba0-cbe132191a69"
      },
      "execution_count": 7,
      "outputs": [
        {
          "output_type": "execute_result",
          "data": {
            "text/plain": [
              "               Country Code  Year  Population  Urban Percentage  \\\n",
              "0            Australia  AUS  1990    17041000              85.4   \n",
              "1            Australia  AUS  1991    17272000              85.4   \n",
              "2            Australia  AUS  1992    17486000              85.3   \n",
              "3            Australia  AUS  1993    17687000              85.2   \n",
              "4            Australia  AUS  1994    17883000              85.0   \n",
              "...                ...  ...   ...         ...               ...   \n",
              "3006  Marshall Islands  MHL  2012       53000              74.5   \n",
              "3007  Marshall Islands  MHL  2013       53000              74.9   \n",
              "3008  Marshall Islands  MHL  2014       53000              75.4   \n",
              "3009  Marshall Islands  MHL  2017       53000              76.6   \n",
              "3010  Marshall Islands  MHL  2018       53000              77.0   \n",
              "\n",
              "      GDP Per Capita (USD)  Electrification Percentage   FDI (USD)  \\\n",
              "0                    18249                       100.0  8457776859   \n",
              "1                    18860                       100.0  2612066526   \n",
              "2                    18624                       100.0  4941906671   \n",
              "3                    17700                       100.0  5312435141   \n",
              "4                    18129                       100.0  4458484243   \n",
              "...                    ...                         ...         ...   \n",
              "3006                  3445                        90.6    21373811   \n",
              "3007                  3611                        91.2    32548149   \n",
              "3008                  3672                        91.8     9047685   \n",
              "3009                  4507                        94.3     5835497   \n",
              "3010                  4769                        95.9     9752051   \n",
              "\n",
              "      Number of Fortune 500  Emissions (Tons CO2)  Biofuel Share (%)  \\\n",
              "0                         0             278154140                NaN   \n",
              "1                         0             279528500                NaN   \n",
              "2                         0             284525380                NaN   \n",
              "3                         0             288870560                NaN   \n",
              "4                         0             293696580                NaN   \n",
              "...                     ...                   ...                ...   \n",
              "3006                      0                135568                NaN   \n",
              "3007                      0                139232                NaN   \n",
              "3008                      0                142896                NaN   \n",
              "3009                      0                146560                NaN   \n",
              "3010                      0                146560                NaN   \n",
              "\n",
              "      Coal Share (%)  Fossil Fuel Share (%)  Gas Share (%)  Oil Share (%)  \n",
              "0             42.032                 95.922         15.869         38.021  \n",
              "1             43.151                 95.669         15.310         37.207  \n",
              "2             42.972                 95.648         15.680         36.996  \n",
              "3             42.050                 95.654         15.806         37.798  \n",
              "4             41.263                 95.871         16.881         37.727  \n",
              "...              ...                    ...            ...            ...  \n",
              "3006             NaN                    NaN            NaN            NaN  \n",
              "3007             NaN                    NaN            NaN            NaN  \n",
              "3008             NaN                    NaN            NaN            NaN  \n",
              "3009             NaN                    NaN            NaN            NaN  \n",
              "3010             NaN                    NaN            NaN            NaN  \n",
              "\n",
              "[3011 rows x 15 columns]"
            ],
            "text/html": [
              "\n",
              "  <div id=\"df-e639f64f-d514-4a6f-b633-1010cc9c2d1b\">\n",
              "    <div class=\"colab-df-container\">\n",
              "      <div>\n",
              "<style scoped>\n",
              "    .dataframe tbody tr th:only-of-type {\n",
              "        vertical-align: middle;\n",
              "    }\n",
              "\n",
              "    .dataframe tbody tr th {\n",
              "        vertical-align: top;\n",
              "    }\n",
              "\n",
              "    .dataframe thead th {\n",
              "        text-align: right;\n",
              "    }\n",
              "</style>\n",
              "<table border=\"1\" class=\"dataframe\">\n",
              "  <thead>\n",
              "    <tr style=\"text-align: right;\">\n",
              "      <th></th>\n",
              "      <th>Country</th>\n",
              "      <th>Code</th>\n",
              "      <th>Year</th>\n",
              "      <th>Population</th>\n",
              "      <th>Urban Percentage</th>\n",
              "      <th>GDP Per Capita (USD)</th>\n",
              "      <th>Electrification Percentage</th>\n",
              "      <th>FDI (USD)</th>\n",
              "      <th>Number of Fortune 500</th>\n",
              "      <th>Emissions (Tons CO2)</th>\n",
              "      <th>Biofuel Share (%)</th>\n",
              "      <th>Coal Share (%)</th>\n",
              "      <th>Fossil Fuel Share (%)</th>\n",
              "      <th>Gas Share (%)</th>\n",
              "      <th>Oil Share (%)</th>\n",
              "    </tr>\n",
              "  </thead>\n",
              "  <tbody>\n",
              "    <tr>\n",
              "      <th>0</th>\n",
              "      <td>Australia</td>\n",
              "      <td>AUS</td>\n",
              "      <td>1990</td>\n",
              "      <td>17041000</td>\n",
              "      <td>85.4</td>\n",
              "      <td>18249</td>\n",
              "      <td>100.0</td>\n",
              "      <td>8457776859</td>\n",
              "      <td>0</td>\n",
              "      <td>278154140</td>\n",
              "      <td>NaN</td>\n",
              "      <td>42.032</td>\n",
              "      <td>95.922</td>\n",
              "      <td>15.869</td>\n",
              "      <td>38.021</td>\n",
              "    </tr>\n",
              "    <tr>\n",
              "      <th>1</th>\n",
              "      <td>Australia</td>\n",
              "      <td>AUS</td>\n",
              "      <td>1991</td>\n",
              "      <td>17272000</td>\n",
              "      <td>85.4</td>\n",
              "      <td>18860</td>\n",
              "      <td>100.0</td>\n",
              "      <td>2612066526</td>\n",
              "      <td>0</td>\n",
              "      <td>279528500</td>\n",
              "      <td>NaN</td>\n",
              "      <td>43.151</td>\n",
              "      <td>95.669</td>\n",
              "      <td>15.310</td>\n",
              "      <td>37.207</td>\n",
              "    </tr>\n",
              "    <tr>\n",
              "      <th>2</th>\n",
              "      <td>Australia</td>\n",
              "      <td>AUS</td>\n",
              "      <td>1992</td>\n",
              "      <td>17486000</td>\n",
              "      <td>85.3</td>\n",
              "      <td>18624</td>\n",
              "      <td>100.0</td>\n",
              "      <td>4941906671</td>\n",
              "      <td>0</td>\n",
              "      <td>284525380</td>\n",
              "      <td>NaN</td>\n",
              "      <td>42.972</td>\n",
              "      <td>95.648</td>\n",
              "      <td>15.680</td>\n",
              "      <td>36.996</td>\n",
              "    </tr>\n",
              "    <tr>\n",
              "      <th>3</th>\n",
              "      <td>Australia</td>\n",
              "      <td>AUS</td>\n",
              "      <td>1993</td>\n",
              "      <td>17687000</td>\n",
              "      <td>85.2</td>\n",
              "      <td>17700</td>\n",
              "      <td>100.0</td>\n",
              "      <td>5312435141</td>\n",
              "      <td>0</td>\n",
              "      <td>288870560</td>\n",
              "      <td>NaN</td>\n",
              "      <td>42.050</td>\n",
              "      <td>95.654</td>\n",
              "      <td>15.806</td>\n",
              "      <td>37.798</td>\n",
              "    </tr>\n",
              "    <tr>\n",
              "      <th>4</th>\n",
              "      <td>Australia</td>\n",
              "      <td>AUS</td>\n",
              "      <td>1994</td>\n",
              "      <td>17883000</td>\n",
              "      <td>85.0</td>\n",
              "      <td>18129</td>\n",
              "      <td>100.0</td>\n",
              "      <td>4458484243</td>\n",
              "      <td>0</td>\n",
              "      <td>293696580</td>\n",
              "      <td>NaN</td>\n",
              "      <td>41.263</td>\n",
              "      <td>95.871</td>\n",
              "      <td>16.881</td>\n",
              "      <td>37.727</td>\n",
              "    </tr>\n",
              "    <tr>\n",
              "      <th>...</th>\n",
              "      <td>...</td>\n",
              "      <td>...</td>\n",
              "      <td>...</td>\n",
              "      <td>...</td>\n",
              "      <td>...</td>\n",
              "      <td>...</td>\n",
              "      <td>...</td>\n",
              "      <td>...</td>\n",
              "      <td>...</td>\n",
              "      <td>...</td>\n",
              "      <td>...</td>\n",
              "      <td>...</td>\n",
              "      <td>...</td>\n",
              "      <td>...</td>\n",
              "      <td>...</td>\n",
              "    </tr>\n",
              "    <tr>\n",
              "      <th>3006</th>\n",
              "      <td>Marshall Islands</td>\n",
              "      <td>MHL</td>\n",
              "      <td>2012</td>\n",
              "      <td>53000</td>\n",
              "      <td>74.5</td>\n",
              "      <td>3445</td>\n",
              "      <td>90.6</td>\n",
              "      <td>21373811</td>\n",
              "      <td>0</td>\n",
              "      <td>135568</td>\n",
              "      <td>NaN</td>\n",
              "      <td>NaN</td>\n",
              "      <td>NaN</td>\n",
              "      <td>NaN</td>\n",
              "      <td>NaN</td>\n",
              "    </tr>\n",
              "    <tr>\n",
              "      <th>3007</th>\n",
              "      <td>Marshall Islands</td>\n",
              "      <td>MHL</td>\n",
              "      <td>2013</td>\n",
              "      <td>53000</td>\n",
              "      <td>74.9</td>\n",
              "      <td>3611</td>\n",
              "      <td>91.2</td>\n",
              "      <td>32548149</td>\n",
              "      <td>0</td>\n",
              "      <td>139232</td>\n",
              "      <td>NaN</td>\n",
              "      <td>NaN</td>\n",
              "      <td>NaN</td>\n",
              "      <td>NaN</td>\n",
              "      <td>NaN</td>\n",
              "    </tr>\n",
              "    <tr>\n",
              "      <th>3008</th>\n",
              "      <td>Marshall Islands</td>\n",
              "      <td>MHL</td>\n",
              "      <td>2014</td>\n",
              "      <td>53000</td>\n",
              "      <td>75.4</td>\n",
              "      <td>3672</td>\n",
              "      <td>91.8</td>\n",
              "      <td>9047685</td>\n",
              "      <td>0</td>\n",
              "      <td>142896</td>\n",
              "      <td>NaN</td>\n",
              "      <td>NaN</td>\n",
              "      <td>NaN</td>\n",
              "      <td>NaN</td>\n",
              "      <td>NaN</td>\n",
              "    </tr>\n",
              "    <tr>\n",
              "      <th>3009</th>\n",
              "      <td>Marshall Islands</td>\n",
              "      <td>MHL</td>\n",
              "      <td>2017</td>\n",
              "      <td>53000</td>\n",
              "      <td>76.6</td>\n",
              "      <td>4507</td>\n",
              "      <td>94.3</td>\n",
              "      <td>5835497</td>\n",
              "      <td>0</td>\n",
              "      <td>146560</td>\n",
              "      <td>NaN</td>\n",
              "      <td>NaN</td>\n",
              "      <td>NaN</td>\n",
              "      <td>NaN</td>\n",
              "      <td>NaN</td>\n",
              "    </tr>\n",
              "    <tr>\n",
              "      <th>3010</th>\n",
              "      <td>Marshall Islands</td>\n",
              "      <td>MHL</td>\n",
              "      <td>2018</td>\n",
              "      <td>53000</td>\n",
              "      <td>77.0</td>\n",
              "      <td>4769</td>\n",
              "      <td>95.9</td>\n",
              "      <td>9752051</td>\n",
              "      <td>0</td>\n",
              "      <td>146560</td>\n",
              "      <td>NaN</td>\n",
              "      <td>NaN</td>\n",
              "      <td>NaN</td>\n",
              "      <td>NaN</td>\n",
              "      <td>NaN</td>\n",
              "    </tr>\n",
              "  </tbody>\n",
              "</table>\n",
              "<p>3011 rows × 15 columns</p>\n",
              "</div>\n",
              "      <button class=\"colab-df-convert\" onclick=\"convertToInteractive('df-e639f64f-d514-4a6f-b633-1010cc9c2d1b')\"\n",
              "              title=\"Convert this dataframe to an interactive table.\"\n",
              "              style=\"display:none;\">\n",
              "        \n",
              "  <svg xmlns=\"http://www.w3.org/2000/svg\" height=\"24px\"viewBox=\"0 0 24 24\"\n",
              "       width=\"24px\">\n",
              "    <path d=\"M0 0h24v24H0V0z\" fill=\"none\"/>\n",
              "    <path d=\"M18.56 5.44l.94 2.06.94-2.06 2.06-.94-2.06-.94-.94-2.06-.94 2.06-2.06.94zm-11 1L8.5 8.5l.94-2.06 2.06-.94-2.06-.94L8.5 2.5l-.94 2.06-2.06.94zm10 10l.94 2.06.94-2.06 2.06-.94-2.06-.94-.94-2.06-.94 2.06-2.06.94z\"/><path d=\"M17.41 7.96l-1.37-1.37c-.4-.4-.92-.59-1.43-.59-.52 0-1.04.2-1.43.59L10.3 9.45l-7.72 7.72c-.78.78-.78 2.05 0 2.83L4 21.41c.39.39.9.59 1.41.59.51 0 1.02-.2 1.41-.59l7.78-7.78 2.81-2.81c.8-.78.8-2.07 0-2.86zM5.41 20L4 18.59l7.72-7.72 1.47 1.35L5.41 20z\"/>\n",
              "  </svg>\n",
              "      </button>\n",
              "      \n",
              "  <style>\n",
              "    .colab-df-container {\n",
              "      display:flex;\n",
              "      flex-wrap:wrap;\n",
              "      gap: 12px;\n",
              "    }\n",
              "\n",
              "    .colab-df-convert {\n",
              "      background-color: #E8F0FE;\n",
              "      border: none;\n",
              "      border-radius: 50%;\n",
              "      cursor: pointer;\n",
              "      display: none;\n",
              "      fill: #1967D2;\n",
              "      height: 32px;\n",
              "      padding: 0 0 0 0;\n",
              "      width: 32px;\n",
              "    }\n",
              "\n",
              "    .colab-df-convert:hover {\n",
              "      background-color: #E2EBFA;\n",
              "      box-shadow: 0px 1px 2px rgba(60, 64, 67, 0.3), 0px 1px 3px 1px rgba(60, 64, 67, 0.15);\n",
              "      fill: #174EA6;\n",
              "    }\n",
              "\n",
              "    [theme=dark] .colab-df-convert {\n",
              "      background-color: #3B4455;\n",
              "      fill: #D2E3FC;\n",
              "    }\n",
              "\n",
              "    [theme=dark] .colab-df-convert:hover {\n",
              "      background-color: #434B5C;\n",
              "      box-shadow: 0px 1px 3px 1px rgba(0, 0, 0, 0.15);\n",
              "      filter: drop-shadow(0px 1px 2px rgba(0, 0, 0, 0.3));\n",
              "      fill: #FFFFFF;\n",
              "    }\n",
              "  </style>\n",
              "\n",
              "      <script>\n",
              "        const buttonEl =\n",
              "          document.querySelector('#df-e639f64f-d514-4a6f-b633-1010cc9c2d1b button.colab-df-convert');\n",
              "        buttonEl.style.display =\n",
              "          google.colab.kernel.accessAllowed ? 'block' : 'none';\n",
              "\n",
              "        async function convertToInteractive(key) {\n",
              "          const element = document.querySelector('#df-e639f64f-d514-4a6f-b633-1010cc9c2d1b');\n",
              "          const dataTable =\n",
              "            await google.colab.kernel.invokeFunction('convertToInteractive',\n",
              "                                                     [key], {});\n",
              "          if (!dataTable) return;\n",
              "\n",
              "          const docLinkHtml = 'Like what you see? Visit the ' +\n",
              "            '<a target=\"_blank\" href=https://colab.research.google.com/notebooks/data_table.ipynb>data table notebook</a>'\n",
              "            + ' to learn more about interactive tables.';\n",
              "          element.innerHTML = '';\n",
              "          dataTable['output_type'] = 'display_data';\n",
              "          await google.colab.output.renderOutput(dataTable, element);\n",
              "          const docLink = document.createElement('div');\n",
              "          docLink.innerHTML = docLinkHtml;\n",
              "          element.appendChild(docLink);\n",
              "        }\n",
              "      </script>\n",
              "    </div>\n",
              "  </div>\n",
              "  "
            ]
          },
          "metadata": {},
          "execution_count": 7
        }
      ]
    },
    {
      "cell_type": "code",
      "source": [
        "df_ml_full = df_ml_pre[df_ml_pre.iloc[:, -5:].sum(axis=1) != 0]\n",
        "df_ml_full.iloc[:, -5:] = df_ml_full.iloc[:, -5:].fillna(0).round(1)\n",
        "df_ml_full"
      ],
      "metadata": {
        "colab": {
          "base_uri": "https://localhost:8080/",
          "height": 647
        },
        "id": "EaOoBtZNuDNl",
        "outputId": "7b1cc9d0-f81a-4a42-9b8b-931029807fd7"
      },
      "execution_count": 8,
      "outputs": [
        {
          "output_type": "stream",
          "name": "stderr",
          "text": [
            "<ipython-input-8-9c608c5808a9>:2: SettingWithCopyWarning: \n",
            "A value is trying to be set on a copy of a slice from a DataFrame.\n",
            "Try using .loc[row_indexer,col_indexer] = value instead\n",
            "\n",
            "See the caveats in the documentation: https://pandas.pydata.org/pandas-docs/stable/user_guide/indexing.html#returning-a-view-versus-a-copy\n",
            "  df_ml_full.iloc[:, -5:] = df_ml_full.iloc[:, -5:].fillna(0).round(1)\n"
          ]
        },
        {
          "output_type": "execute_result",
          "data": {
            "text/plain": [
              "        Country Code  Year  Population  Urban Percentage  \\\n",
              "0     Australia  AUS  1990    17041000              85.4   \n",
              "1     Australia  AUS  1991    17272000              85.4   \n",
              "2     Australia  AUS  1992    17486000              85.3   \n",
              "3     Australia  AUS  1993    17687000              85.2   \n",
              "4     Australia  AUS  1994    17883000              85.0   \n",
              "...         ...  ...   ...         ...               ...   \n",
              "2876       Oman  OMN  2014     3961000              80.1   \n",
              "2877       Oman  OMN  2016     4425000              82.5   \n",
              "2878       Oman  OMN  2017     4636000              83.6   \n",
              "2879       Oman  OMN  2018     4830000              84.5   \n",
              "2880       Oman  OMN  2019     5002000              85.4   \n",
              "\n",
              "      GDP Per Capita (USD)  Electrification Percentage   FDI (USD)  \\\n",
              "0                    18249                       100.0  8457776859   \n",
              "1                    18860                       100.0  2612066526   \n",
              "2                    18624                       100.0  4941906671   \n",
              "3                    17700                       100.0  5312435141   \n",
              "4                    18129                       100.0  4458484243   \n",
              "...                    ...                         ...         ...   \n",
              "2876                 23121                       100.0  1286345903   \n",
              "2877                 17082                       100.0  2265279583   \n",
              "2878                 17802                       100.0  2988036410   \n",
              "2879                 19887                       100.0  6455136540   \n",
              "2880                 19132                       100.0  4237711313   \n",
              "\n",
              "      Number of Fortune 500  Emissions (Tons CO2)  Biofuel Share (%)  \\\n",
              "0                         0             278154140                0.0   \n",
              "1                         0             279528500                0.0   \n",
              "2                         0             284525380                0.0   \n",
              "3                         0             288870560                0.0   \n",
              "4                         0             293696580                0.0   \n",
              "...                     ...                   ...                ...   \n",
              "2876                      0              65896620                0.0   \n",
              "2877                      0              65669388                0.0   \n",
              "2878                      0              68619700                0.0   \n",
              "2879                      0              72555760                0.0   \n",
              "2880                      0              72177170                0.0   \n",
              "\n",
              "      Coal Share (%)  Fossil Fuel Share (%)  Gas Share (%)  Oil Share (%)  \n",
              "0               42.0                   95.9           15.9           38.0  \n",
              "1               43.2                   95.7           15.3           37.2  \n",
              "2               43.0                   95.6           15.7           37.0  \n",
              "3               42.0                   95.7           15.8           37.8  \n",
              "4               41.3                   95.9           16.9           37.7  \n",
              "...              ...                    ...            ...            ...  \n",
              "2876             0.1                  100.0           67.1           32.8  \n",
              "2877             0.2                  100.0           68.0           31.8  \n",
              "2878             0.2                  100.0           62.6           37.2  \n",
              "2879             0.2                  100.0           60.5           39.3  \n",
              "2880             0.5                  100.0           59.5           40.1  \n",
              "\n",
              "[1266 rows x 15 columns]"
            ],
            "text/html": [
              "\n",
              "  <div id=\"df-d9019d88-75c3-4326-a59c-c13a12d0be3b\">\n",
              "    <div class=\"colab-df-container\">\n",
              "      <div>\n",
              "<style scoped>\n",
              "    .dataframe tbody tr th:only-of-type {\n",
              "        vertical-align: middle;\n",
              "    }\n",
              "\n",
              "    .dataframe tbody tr th {\n",
              "        vertical-align: top;\n",
              "    }\n",
              "\n",
              "    .dataframe thead th {\n",
              "        text-align: right;\n",
              "    }\n",
              "</style>\n",
              "<table border=\"1\" class=\"dataframe\">\n",
              "  <thead>\n",
              "    <tr style=\"text-align: right;\">\n",
              "      <th></th>\n",
              "      <th>Country</th>\n",
              "      <th>Code</th>\n",
              "      <th>Year</th>\n",
              "      <th>Population</th>\n",
              "      <th>Urban Percentage</th>\n",
              "      <th>GDP Per Capita (USD)</th>\n",
              "      <th>Electrification Percentage</th>\n",
              "      <th>FDI (USD)</th>\n",
              "      <th>Number of Fortune 500</th>\n",
              "      <th>Emissions (Tons CO2)</th>\n",
              "      <th>Biofuel Share (%)</th>\n",
              "      <th>Coal Share (%)</th>\n",
              "      <th>Fossil Fuel Share (%)</th>\n",
              "      <th>Gas Share (%)</th>\n",
              "      <th>Oil Share (%)</th>\n",
              "    </tr>\n",
              "  </thead>\n",
              "  <tbody>\n",
              "    <tr>\n",
              "      <th>0</th>\n",
              "      <td>Australia</td>\n",
              "      <td>AUS</td>\n",
              "      <td>1990</td>\n",
              "      <td>17041000</td>\n",
              "      <td>85.4</td>\n",
              "      <td>18249</td>\n",
              "      <td>100.0</td>\n",
              "      <td>8457776859</td>\n",
              "      <td>0</td>\n",
              "      <td>278154140</td>\n",
              "      <td>0.0</td>\n",
              "      <td>42.0</td>\n",
              "      <td>95.9</td>\n",
              "      <td>15.9</td>\n",
              "      <td>38.0</td>\n",
              "    </tr>\n",
              "    <tr>\n",
              "      <th>1</th>\n",
              "      <td>Australia</td>\n",
              "      <td>AUS</td>\n",
              "      <td>1991</td>\n",
              "      <td>17272000</td>\n",
              "      <td>85.4</td>\n",
              "      <td>18860</td>\n",
              "      <td>100.0</td>\n",
              "      <td>2612066526</td>\n",
              "      <td>0</td>\n",
              "      <td>279528500</td>\n",
              "      <td>0.0</td>\n",
              "      <td>43.2</td>\n",
              "      <td>95.7</td>\n",
              "      <td>15.3</td>\n",
              "      <td>37.2</td>\n",
              "    </tr>\n",
              "    <tr>\n",
              "      <th>2</th>\n",
              "      <td>Australia</td>\n",
              "      <td>AUS</td>\n",
              "      <td>1992</td>\n",
              "      <td>17486000</td>\n",
              "      <td>85.3</td>\n",
              "      <td>18624</td>\n",
              "      <td>100.0</td>\n",
              "      <td>4941906671</td>\n",
              "      <td>0</td>\n",
              "      <td>284525380</td>\n",
              "      <td>0.0</td>\n",
              "      <td>43.0</td>\n",
              "      <td>95.6</td>\n",
              "      <td>15.7</td>\n",
              "      <td>37.0</td>\n",
              "    </tr>\n",
              "    <tr>\n",
              "      <th>3</th>\n",
              "      <td>Australia</td>\n",
              "      <td>AUS</td>\n",
              "      <td>1993</td>\n",
              "      <td>17687000</td>\n",
              "      <td>85.2</td>\n",
              "      <td>17700</td>\n",
              "      <td>100.0</td>\n",
              "      <td>5312435141</td>\n",
              "      <td>0</td>\n",
              "      <td>288870560</td>\n",
              "      <td>0.0</td>\n",
              "      <td>42.0</td>\n",
              "      <td>95.7</td>\n",
              "      <td>15.8</td>\n",
              "      <td>37.8</td>\n",
              "    </tr>\n",
              "    <tr>\n",
              "      <th>4</th>\n",
              "      <td>Australia</td>\n",
              "      <td>AUS</td>\n",
              "      <td>1994</td>\n",
              "      <td>17883000</td>\n",
              "      <td>85.0</td>\n",
              "      <td>18129</td>\n",
              "      <td>100.0</td>\n",
              "      <td>4458484243</td>\n",
              "      <td>0</td>\n",
              "      <td>293696580</td>\n",
              "      <td>0.0</td>\n",
              "      <td>41.3</td>\n",
              "      <td>95.9</td>\n",
              "      <td>16.9</td>\n",
              "      <td>37.7</td>\n",
              "    </tr>\n",
              "    <tr>\n",
              "      <th>...</th>\n",
              "      <td>...</td>\n",
              "      <td>...</td>\n",
              "      <td>...</td>\n",
              "      <td>...</td>\n",
              "      <td>...</td>\n",
              "      <td>...</td>\n",
              "      <td>...</td>\n",
              "      <td>...</td>\n",
              "      <td>...</td>\n",
              "      <td>...</td>\n",
              "      <td>...</td>\n",
              "      <td>...</td>\n",
              "      <td>...</td>\n",
              "      <td>...</td>\n",
              "      <td>...</td>\n",
              "    </tr>\n",
              "    <tr>\n",
              "      <th>2876</th>\n",
              "      <td>Oman</td>\n",
              "      <td>OMN</td>\n",
              "      <td>2014</td>\n",
              "      <td>3961000</td>\n",
              "      <td>80.1</td>\n",
              "      <td>23121</td>\n",
              "      <td>100.0</td>\n",
              "      <td>1286345903</td>\n",
              "      <td>0</td>\n",
              "      <td>65896620</td>\n",
              "      <td>0.0</td>\n",
              "      <td>0.1</td>\n",
              "      <td>100.0</td>\n",
              "      <td>67.1</td>\n",
              "      <td>32.8</td>\n",
              "    </tr>\n",
              "    <tr>\n",
              "      <th>2877</th>\n",
              "      <td>Oman</td>\n",
              "      <td>OMN</td>\n",
              "      <td>2016</td>\n",
              "      <td>4425000</td>\n",
              "      <td>82.5</td>\n",
              "      <td>17082</td>\n",
              "      <td>100.0</td>\n",
              "      <td>2265279583</td>\n",
              "      <td>0</td>\n",
              "      <td>65669388</td>\n",
              "      <td>0.0</td>\n",
              "      <td>0.2</td>\n",
              "      <td>100.0</td>\n",
              "      <td>68.0</td>\n",
              "      <td>31.8</td>\n",
              "    </tr>\n",
              "    <tr>\n",
              "      <th>2878</th>\n",
              "      <td>Oman</td>\n",
              "      <td>OMN</td>\n",
              "      <td>2017</td>\n",
              "      <td>4636000</td>\n",
              "      <td>83.6</td>\n",
              "      <td>17802</td>\n",
              "      <td>100.0</td>\n",
              "      <td>2988036410</td>\n",
              "      <td>0</td>\n",
              "      <td>68619700</td>\n",
              "      <td>0.0</td>\n",
              "      <td>0.2</td>\n",
              "      <td>100.0</td>\n",
              "      <td>62.6</td>\n",
              "      <td>37.2</td>\n",
              "    </tr>\n",
              "    <tr>\n",
              "      <th>2879</th>\n",
              "      <td>Oman</td>\n",
              "      <td>OMN</td>\n",
              "      <td>2018</td>\n",
              "      <td>4830000</td>\n",
              "      <td>84.5</td>\n",
              "      <td>19887</td>\n",
              "      <td>100.0</td>\n",
              "      <td>6455136540</td>\n",
              "      <td>0</td>\n",
              "      <td>72555760</td>\n",
              "      <td>0.0</td>\n",
              "      <td>0.2</td>\n",
              "      <td>100.0</td>\n",
              "      <td>60.5</td>\n",
              "      <td>39.3</td>\n",
              "    </tr>\n",
              "    <tr>\n",
              "      <th>2880</th>\n",
              "      <td>Oman</td>\n",
              "      <td>OMN</td>\n",
              "      <td>2019</td>\n",
              "      <td>5002000</td>\n",
              "      <td>85.4</td>\n",
              "      <td>19132</td>\n",
              "      <td>100.0</td>\n",
              "      <td>4237711313</td>\n",
              "      <td>0</td>\n",
              "      <td>72177170</td>\n",
              "      <td>0.0</td>\n",
              "      <td>0.5</td>\n",
              "      <td>100.0</td>\n",
              "      <td>59.5</td>\n",
              "      <td>40.1</td>\n",
              "    </tr>\n",
              "  </tbody>\n",
              "</table>\n",
              "<p>1266 rows × 15 columns</p>\n",
              "</div>\n",
              "      <button class=\"colab-df-convert\" onclick=\"convertToInteractive('df-d9019d88-75c3-4326-a59c-c13a12d0be3b')\"\n",
              "              title=\"Convert this dataframe to an interactive table.\"\n",
              "              style=\"display:none;\">\n",
              "        \n",
              "  <svg xmlns=\"http://www.w3.org/2000/svg\" height=\"24px\"viewBox=\"0 0 24 24\"\n",
              "       width=\"24px\">\n",
              "    <path d=\"M0 0h24v24H0V0z\" fill=\"none\"/>\n",
              "    <path d=\"M18.56 5.44l.94 2.06.94-2.06 2.06-.94-2.06-.94-.94-2.06-.94 2.06-2.06.94zm-11 1L8.5 8.5l.94-2.06 2.06-.94-2.06-.94L8.5 2.5l-.94 2.06-2.06.94zm10 10l.94 2.06.94-2.06 2.06-.94-2.06-.94-.94-2.06-.94 2.06-2.06.94z\"/><path d=\"M17.41 7.96l-1.37-1.37c-.4-.4-.92-.59-1.43-.59-.52 0-1.04.2-1.43.59L10.3 9.45l-7.72 7.72c-.78.78-.78 2.05 0 2.83L4 21.41c.39.39.9.59 1.41.59.51 0 1.02-.2 1.41-.59l7.78-7.78 2.81-2.81c.8-.78.8-2.07 0-2.86zM5.41 20L4 18.59l7.72-7.72 1.47 1.35L5.41 20z\"/>\n",
              "  </svg>\n",
              "      </button>\n",
              "      \n",
              "  <style>\n",
              "    .colab-df-container {\n",
              "      display:flex;\n",
              "      flex-wrap:wrap;\n",
              "      gap: 12px;\n",
              "    }\n",
              "\n",
              "    .colab-df-convert {\n",
              "      background-color: #E8F0FE;\n",
              "      border: none;\n",
              "      border-radius: 50%;\n",
              "      cursor: pointer;\n",
              "      display: none;\n",
              "      fill: #1967D2;\n",
              "      height: 32px;\n",
              "      padding: 0 0 0 0;\n",
              "      width: 32px;\n",
              "    }\n",
              "\n",
              "    .colab-df-convert:hover {\n",
              "      background-color: #E2EBFA;\n",
              "      box-shadow: 0px 1px 2px rgba(60, 64, 67, 0.3), 0px 1px 3px 1px rgba(60, 64, 67, 0.15);\n",
              "      fill: #174EA6;\n",
              "    }\n",
              "\n",
              "    [theme=dark] .colab-df-convert {\n",
              "      background-color: #3B4455;\n",
              "      fill: #D2E3FC;\n",
              "    }\n",
              "\n",
              "    [theme=dark] .colab-df-convert:hover {\n",
              "      background-color: #434B5C;\n",
              "      box-shadow: 0px 1px 3px 1px rgba(0, 0, 0, 0.15);\n",
              "      filter: drop-shadow(0px 1px 2px rgba(0, 0, 0, 0.3));\n",
              "      fill: #FFFFFF;\n",
              "    }\n",
              "  </style>\n",
              "\n",
              "      <script>\n",
              "        const buttonEl =\n",
              "          document.querySelector('#df-d9019d88-75c3-4326-a59c-c13a12d0be3b button.colab-df-convert');\n",
              "        buttonEl.style.display =\n",
              "          google.colab.kernel.accessAllowed ? 'block' : 'none';\n",
              "\n",
              "        async function convertToInteractive(key) {\n",
              "          const element = document.querySelector('#df-d9019d88-75c3-4326-a59c-c13a12d0be3b');\n",
              "          const dataTable =\n",
              "            await google.colab.kernel.invokeFunction('convertToInteractive',\n",
              "                                                     [key], {});\n",
              "          if (!dataTable) return;\n",
              "\n",
              "          const docLinkHtml = 'Like what you see? Visit the ' +\n",
              "            '<a target=\"_blank\" href=https://colab.research.google.com/notebooks/data_table.ipynb>data table notebook</a>'\n",
              "            + ' to learn more about interactive tables.';\n",
              "          element.innerHTML = '';\n",
              "          dataTable['output_type'] = 'display_data';\n",
              "          await google.colab.output.renderOutput(dataTable, element);\n",
              "          const docLink = document.createElement('div');\n",
              "          docLink.innerHTML = docLinkHtml;\n",
              "          element.appendChild(docLink);\n",
              "        }\n",
              "      </script>\n",
              "    </div>\n",
              "  </div>\n",
              "  "
            ]
          },
          "metadata": {},
          "execution_count": 8
        }
      ]
    },
    {
      "cell_type": "code",
      "source": [
        "df_ml_full_processed = df_ml_full.drop([\"Country\", \"Code\", \"Year\"], axis=1)\n",
        "df_ml_full_processed[\"Years Ago\"] = df_ml[\"Year\"] - df_ml[\"Year\"].min()\n",
        "df_ml_full_processed = df_ml_full_processed[[\"Years Ago\", \"Population\", \n",
        "                                   \"Urban Percentage\", \"GDP Per Capita (USD)\",\n",
        "                                   \"Electrification Percentage\", \"FDI (USD)\",\n",
        "                                   \"Number of Fortune 500\", \"Biofuel Share (%)\",\n",
        "                                   \"Coal Share (%)\", \"Oil Share (%)\", \n",
        "                                   \"Gas Share (%)\", \"Fossil Fuel Share (%)\",\n",
        "                                   \"Emissions (Tons CO2)\"]]\n",
        "df_ml_full_processed"
      ],
      "metadata": {
        "colab": {
          "base_uri": "https://localhost:8080/",
          "height": 540
        },
        "id": "zAX5tN4n2BIe",
        "outputId": "fca1408c-9c91-4cfc-bd63-9ac0e5a8396a"
      },
      "execution_count": 9,
      "outputs": [
        {
          "output_type": "execute_result",
          "data": {
            "text/plain": [
              "      Years Ago  Population  Urban Percentage  GDP Per Capita (USD)  \\\n",
              "0             0    17041000              85.4                 18249   \n",
              "1             1    17272000              85.4                 18860   \n",
              "2             2    17486000              85.3                 18624   \n",
              "3             3    17687000              85.2                 17700   \n",
              "4             4    17883000              85.0                 18129   \n",
              "...         ...         ...               ...                   ...   \n",
              "2876         24     3961000              80.1                 23121   \n",
              "2877         26     4425000              82.5                 17082   \n",
              "2878         27     4636000              83.6                 17802   \n",
              "2879         28     4830000              84.5                 19887   \n",
              "2880         29     5002000              85.4                 19132   \n",
              "\n",
              "      Electrification Percentage   FDI (USD)  Number of Fortune 500  \\\n",
              "0                          100.0  8457776859                      0   \n",
              "1                          100.0  2612066526                      0   \n",
              "2                          100.0  4941906671                      0   \n",
              "3                          100.0  5312435141                      0   \n",
              "4                          100.0  4458484243                      0   \n",
              "...                          ...         ...                    ...   \n",
              "2876                       100.0  1286345903                      0   \n",
              "2877                       100.0  2265279583                      0   \n",
              "2878                       100.0  2988036410                      0   \n",
              "2879                       100.0  6455136540                      0   \n",
              "2880                       100.0  4237711313                      0   \n",
              "\n",
              "      Biofuel Share (%)  Coal Share (%)  Oil Share (%)  Gas Share (%)  \\\n",
              "0                   0.0            42.0           38.0           15.9   \n",
              "1                   0.0            43.2           37.2           15.3   \n",
              "2                   0.0            43.0           37.0           15.7   \n",
              "3                   0.0            42.0           37.8           15.8   \n",
              "4                   0.0            41.3           37.7           16.9   \n",
              "...                 ...             ...            ...            ...   \n",
              "2876                0.0             0.1           32.8           67.1   \n",
              "2877                0.0             0.2           31.8           68.0   \n",
              "2878                0.0             0.2           37.2           62.6   \n",
              "2879                0.0             0.2           39.3           60.5   \n",
              "2880                0.0             0.5           40.1           59.5   \n",
              "\n",
              "      Fossil Fuel Share (%)  Emissions (Tons CO2)  \n",
              "0                      95.9             278154140  \n",
              "1                      95.7             279528500  \n",
              "2                      95.6             284525380  \n",
              "3                      95.7             288870560  \n",
              "4                      95.9             293696580  \n",
              "...                     ...                   ...  \n",
              "2876                  100.0              65896620  \n",
              "2877                  100.0              65669388  \n",
              "2878                  100.0              68619700  \n",
              "2879                  100.0              72555760  \n",
              "2880                  100.0              72177170  \n",
              "\n",
              "[1266 rows x 13 columns]"
            ],
            "text/html": [
              "\n",
              "  <div id=\"df-17f3d062-53ba-4fa3-ab19-065596483f23\">\n",
              "    <div class=\"colab-df-container\">\n",
              "      <div>\n",
              "<style scoped>\n",
              "    .dataframe tbody tr th:only-of-type {\n",
              "        vertical-align: middle;\n",
              "    }\n",
              "\n",
              "    .dataframe tbody tr th {\n",
              "        vertical-align: top;\n",
              "    }\n",
              "\n",
              "    .dataframe thead th {\n",
              "        text-align: right;\n",
              "    }\n",
              "</style>\n",
              "<table border=\"1\" class=\"dataframe\">\n",
              "  <thead>\n",
              "    <tr style=\"text-align: right;\">\n",
              "      <th></th>\n",
              "      <th>Years Ago</th>\n",
              "      <th>Population</th>\n",
              "      <th>Urban Percentage</th>\n",
              "      <th>GDP Per Capita (USD)</th>\n",
              "      <th>Electrification Percentage</th>\n",
              "      <th>FDI (USD)</th>\n",
              "      <th>Number of Fortune 500</th>\n",
              "      <th>Biofuel Share (%)</th>\n",
              "      <th>Coal Share (%)</th>\n",
              "      <th>Oil Share (%)</th>\n",
              "      <th>Gas Share (%)</th>\n",
              "      <th>Fossil Fuel Share (%)</th>\n",
              "      <th>Emissions (Tons CO2)</th>\n",
              "    </tr>\n",
              "  </thead>\n",
              "  <tbody>\n",
              "    <tr>\n",
              "      <th>0</th>\n",
              "      <td>0</td>\n",
              "      <td>17041000</td>\n",
              "      <td>85.4</td>\n",
              "      <td>18249</td>\n",
              "      <td>100.0</td>\n",
              "      <td>8457776859</td>\n",
              "      <td>0</td>\n",
              "      <td>0.0</td>\n",
              "      <td>42.0</td>\n",
              "      <td>38.0</td>\n",
              "      <td>15.9</td>\n",
              "      <td>95.9</td>\n",
              "      <td>278154140</td>\n",
              "    </tr>\n",
              "    <tr>\n",
              "      <th>1</th>\n",
              "      <td>1</td>\n",
              "      <td>17272000</td>\n",
              "      <td>85.4</td>\n",
              "      <td>18860</td>\n",
              "      <td>100.0</td>\n",
              "      <td>2612066526</td>\n",
              "      <td>0</td>\n",
              "      <td>0.0</td>\n",
              "      <td>43.2</td>\n",
              "      <td>37.2</td>\n",
              "      <td>15.3</td>\n",
              "      <td>95.7</td>\n",
              "      <td>279528500</td>\n",
              "    </tr>\n",
              "    <tr>\n",
              "      <th>2</th>\n",
              "      <td>2</td>\n",
              "      <td>17486000</td>\n",
              "      <td>85.3</td>\n",
              "      <td>18624</td>\n",
              "      <td>100.0</td>\n",
              "      <td>4941906671</td>\n",
              "      <td>0</td>\n",
              "      <td>0.0</td>\n",
              "      <td>43.0</td>\n",
              "      <td>37.0</td>\n",
              "      <td>15.7</td>\n",
              "      <td>95.6</td>\n",
              "      <td>284525380</td>\n",
              "    </tr>\n",
              "    <tr>\n",
              "      <th>3</th>\n",
              "      <td>3</td>\n",
              "      <td>17687000</td>\n",
              "      <td>85.2</td>\n",
              "      <td>17700</td>\n",
              "      <td>100.0</td>\n",
              "      <td>5312435141</td>\n",
              "      <td>0</td>\n",
              "      <td>0.0</td>\n",
              "      <td>42.0</td>\n",
              "      <td>37.8</td>\n",
              "      <td>15.8</td>\n",
              "      <td>95.7</td>\n",
              "      <td>288870560</td>\n",
              "    </tr>\n",
              "    <tr>\n",
              "      <th>4</th>\n",
              "      <td>4</td>\n",
              "      <td>17883000</td>\n",
              "      <td>85.0</td>\n",
              "      <td>18129</td>\n",
              "      <td>100.0</td>\n",
              "      <td>4458484243</td>\n",
              "      <td>0</td>\n",
              "      <td>0.0</td>\n",
              "      <td>41.3</td>\n",
              "      <td>37.7</td>\n",
              "      <td>16.9</td>\n",
              "      <td>95.9</td>\n",
              "      <td>293696580</td>\n",
              "    </tr>\n",
              "    <tr>\n",
              "      <th>...</th>\n",
              "      <td>...</td>\n",
              "      <td>...</td>\n",
              "      <td>...</td>\n",
              "      <td>...</td>\n",
              "      <td>...</td>\n",
              "      <td>...</td>\n",
              "      <td>...</td>\n",
              "      <td>...</td>\n",
              "      <td>...</td>\n",
              "      <td>...</td>\n",
              "      <td>...</td>\n",
              "      <td>...</td>\n",
              "      <td>...</td>\n",
              "    </tr>\n",
              "    <tr>\n",
              "      <th>2876</th>\n",
              "      <td>24</td>\n",
              "      <td>3961000</td>\n",
              "      <td>80.1</td>\n",
              "      <td>23121</td>\n",
              "      <td>100.0</td>\n",
              "      <td>1286345903</td>\n",
              "      <td>0</td>\n",
              "      <td>0.0</td>\n",
              "      <td>0.1</td>\n",
              "      <td>32.8</td>\n",
              "      <td>67.1</td>\n",
              "      <td>100.0</td>\n",
              "      <td>65896620</td>\n",
              "    </tr>\n",
              "    <tr>\n",
              "      <th>2877</th>\n",
              "      <td>26</td>\n",
              "      <td>4425000</td>\n",
              "      <td>82.5</td>\n",
              "      <td>17082</td>\n",
              "      <td>100.0</td>\n",
              "      <td>2265279583</td>\n",
              "      <td>0</td>\n",
              "      <td>0.0</td>\n",
              "      <td>0.2</td>\n",
              "      <td>31.8</td>\n",
              "      <td>68.0</td>\n",
              "      <td>100.0</td>\n",
              "      <td>65669388</td>\n",
              "    </tr>\n",
              "    <tr>\n",
              "      <th>2878</th>\n",
              "      <td>27</td>\n",
              "      <td>4636000</td>\n",
              "      <td>83.6</td>\n",
              "      <td>17802</td>\n",
              "      <td>100.0</td>\n",
              "      <td>2988036410</td>\n",
              "      <td>0</td>\n",
              "      <td>0.0</td>\n",
              "      <td>0.2</td>\n",
              "      <td>37.2</td>\n",
              "      <td>62.6</td>\n",
              "      <td>100.0</td>\n",
              "      <td>68619700</td>\n",
              "    </tr>\n",
              "    <tr>\n",
              "      <th>2879</th>\n",
              "      <td>28</td>\n",
              "      <td>4830000</td>\n",
              "      <td>84.5</td>\n",
              "      <td>19887</td>\n",
              "      <td>100.0</td>\n",
              "      <td>6455136540</td>\n",
              "      <td>0</td>\n",
              "      <td>0.0</td>\n",
              "      <td>0.2</td>\n",
              "      <td>39.3</td>\n",
              "      <td>60.5</td>\n",
              "      <td>100.0</td>\n",
              "      <td>72555760</td>\n",
              "    </tr>\n",
              "    <tr>\n",
              "      <th>2880</th>\n",
              "      <td>29</td>\n",
              "      <td>5002000</td>\n",
              "      <td>85.4</td>\n",
              "      <td>19132</td>\n",
              "      <td>100.0</td>\n",
              "      <td>4237711313</td>\n",
              "      <td>0</td>\n",
              "      <td>0.0</td>\n",
              "      <td>0.5</td>\n",
              "      <td>40.1</td>\n",
              "      <td>59.5</td>\n",
              "      <td>100.0</td>\n",
              "      <td>72177170</td>\n",
              "    </tr>\n",
              "  </tbody>\n",
              "</table>\n",
              "<p>1266 rows × 13 columns</p>\n",
              "</div>\n",
              "      <button class=\"colab-df-convert\" onclick=\"convertToInteractive('df-17f3d062-53ba-4fa3-ab19-065596483f23')\"\n",
              "              title=\"Convert this dataframe to an interactive table.\"\n",
              "              style=\"display:none;\">\n",
              "        \n",
              "  <svg xmlns=\"http://www.w3.org/2000/svg\" height=\"24px\"viewBox=\"0 0 24 24\"\n",
              "       width=\"24px\">\n",
              "    <path d=\"M0 0h24v24H0V0z\" fill=\"none\"/>\n",
              "    <path d=\"M18.56 5.44l.94 2.06.94-2.06 2.06-.94-2.06-.94-.94-2.06-.94 2.06-2.06.94zm-11 1L8.5 8.5l.94-2.06 2.06-.94-2.06-.94L8.5 2.5l-.94 2.06-2.06.94zm10 10l.94 2.06.94-2.06 2.06-.94-2.06-.94-.94-2.06-.94 2.06-2.06.94z\"/><path d=\"M17.41 7.96l-1.37-1.37c-.4-.4-.92-.59-1.43-.59-.52 0-1.04.2-1.43.59L10.3 9.45l-7.72 7.72c-.78.78-.78 2.05 0 2.83L4 21.41c.39.39.9.59 1.41.59.51 0 1.02-.2 1.41-.59l7.78-7.78 2.81-2.81c.8-.78.8-2.07 0-2.86zM5.41 20L4 18.59l7.72-7.72 1.47 1.35L5.41 20z\"/>\n",
              "  </svg>\n",
              "      </button>\n",
              "      \n",
              "  <style>\n",
              "    .colab-df-container {\n",
              "      display:flex;\n",
              "      flex-wrap:wrap;\n",
              "      gap: 12px;\n",
              "    }\n",
              "\n",
              "    .colab-df-convert {\n",
              "      background-color: #E8F0FE;\n",
              "      border: none;\n",
              "      border-radius: 50%;\n",
              "      cursor: pointer;\n",
              "      display: none;\n",
              "      fill: #1967D2;\n",
              "      height: 32px;\n",
              "      padding: 0 0 0 0;\n",
              "      width: 32px;\n",
              "    }\n",
              "\n",
              "    .colab-df-convert:hover {\n",
              "      background-color: #E2EBFA;\n",
              "      box-shadow: 0px 1px 2px rgba(60, 64, 67, 0.3), 0px 1px 3px 1px rgba(60, 64, 67, 0.15);\n",
              "      fill: #174EA6;\n",
              "    }\n",
              "\n",
              "    [theme=dark] .colab-df-convert {\n",
              "      background-color: #3B4455;\n",
              "      fill: #D2E3FC;\n",
              "    }\n",
              "\n",
              "    [theme=dark] .colab-df-convert:hover {\n",
              "      background-color: #434B5C;\n",
              "      box-shadow: 0px 1px 3px 1px rgba(0, 0, 0, 0.15);\n",
              "      filter: drop-shadow(0px 1px 2px rgba(0, 0, 0, 0.3));\n",
              "      fill: #FFFFFF;\n",
              "    }\n",
              "  </style>\n",
              "\n",
              "      <script>\n",
              "        const buttonEl =\n",
              "          document.querySelector('#df-17f3d062-53ba-4fa3-ab19-065596483f23 button.colab-df-convert');\n",
              "        buttonEl.style.display =\n",
              "          google.colab.kernel.accessAllowed ? 'block' : 'none';\n",
              "\n",
              "        async function convertToInteractive(key) {\n",
              "          const element = document.querySelector('#df-17f3d062-53ba-4fa3-ab19-065596483f23');\n",
              "          const dataTable =\n",
              "            await google.colab.kernel.invokeFunction('convertToInteractive',\n",
              "                                                     [key], {});\n",
              "          if (!dataTable) return;\n",
              "\n",
              "          const docLinkHtml = 'Like what you see? Visit the ' +\n",
              "            '<a target=\"_blank\" href=https://colab.research.google.com/notebooks/data_table.ipynb>data table notebook</a>'\n",
              "            + ' to learn more about interactive tables.';\n",
              "          element.innerHTML = '';\n",
              "          dataTable['output_type'] = 'display_data';\n",
              "          await google.colab.output.renderOutput(dataTable, element);\n",
              "          const docLink = document.createElement('div');\n",
              "          docLink.innerHTML = docLinkHtml;\n",
              "          element.appendChild(docLink);\n",
              "        }\n",
              "      </script>\n",
              "    </div>\n",
              "  </div>\n",
              "  "
            ]
          },
          "metadata": {},
          "execution_count": 9
        }
      ]
    },
    {
      "cell_type": "code",
      "source": [
        "df_ml_full_processed[\"Emissions (Tons CO2)\"].describe()"
      ],
      "metadata": {
        "colab": {
          "base_uri": "https://localhost:8080/"
        },
        "id": "8hDO_JeRvhLl",
        "outputId": "095290c1-49f9-4b99-86ee-d298b0739069"
      },
      "execution_count": 10,
      "outputs": [
        {
          "output_type": "execute_result",
          "data": {
            "text/plain": [
              "count    1.266000e+03\n",
              "mean     3.495792e+08\n",
              "std      1.032548e+09\n",
              "min      2.242604e+06\n",
              "25%      4.737548e+07\n",
              "50%      9.704744e+07\n",
              "75%      3.567606e+08\n",
              "max      1.074100e+10\n",
              "Name: Emissions (Tons CO2), dtype: float64"
            ]
          },
          "metadata": {},
          "execution_count": 10
        }
      ]
    },
    {
      "cell_type": "markdown",
      "source": [
        "## No Energy ML"
      ],
      "metadata": {
        "id": "QvZlpzApxsir"
      }
    },
    {
      "cell_type": "code",
      "source": [
        "no_energy_X = df_ml_processed.iloc[:, :-1]\n",
        "no_energy_y = df_ml_processed.iloc[:, -1]\n",
        "no_energy_y_log = np.log10(no_energy_y)"
      ],
      "metadata": {
        "id": "77mlQ0tmt85K"
      },
      "execution_count": 11,
      "outputs": []
    },
    {
      "cell_type": "markdown",
      "source": [
        "### K Neighbors"
      ],
      "metadata": {
        "id": "AURNY2GJAwaZ"
      }
    },
    {
      "cell_type": "code",
      "source": [
        "scores = []\n",
        "for i in range(1, 201):\n",
        "  pipeline = make_pipeline(\n",
        "      StandardScaler(),\n",
        "      KNeighborsRegressor(n_neighbors=i)\n",
        "  )\n",
        "  scores.append(-cross_val_score(\n",
        "      pipeline,\n",
        "      X=no_energy_X,\n",
        "      y=no_energy_y,\n",
        "      scoring=\"neg_root_mean_squared_error\",\n",
        "      cv=10\n",
        "  ).mean())\n",
        "px.scatter(x=[i for i in range(1, 201)], y=scores, \n",
        "           title=\"Test Error for K-Nearest Neighbors Regressor without Energy\",\n",
        "           labels={\"x\":\"Neighbors\", \"y\":\"Test Error\"})"
      ],
      "metadata": {
        "colab": {
          "base_uri": "https://localhost:8080/",
          "height": 542
        },
        "id": "Sn7J_gaGxvon",
        "outputId": "41520101-e834-4291-8e85-bf2b0670518d"
      },
      "execution_count": 12,
      "outputs": [
        {
          "output_type": "display_data",
          "data": {
            "text/html": [
              "<html>\n",
              "<head><meta charset=\"utf-8\" /></head>\n",
              "<body>\n",
              "    <div>            <script src=\"https://cdnjs.cloudflare.com/ajax/libs/mathjax/2.7.5/MathJax.js?config=TeX-AMS-MML_SVG\"></script><script type=\"text/javascript\">if (window.MathJax) {MathJax.Hub.Config({SVG: {font: \"STIX-Web\"}});}</script>                <script type=\"text/javascript\">window.PlotlyConfig = {MathJaxConfig: 'local'};</script>\n",
              "        <script src=\"https://cdn.plot.ly/plotly-2.8.3.min.js\"></script>                <div id=\"f5e94d13-d229-4e0c-82ee-b6c20bf66956\" class=\"plotly-graph-div\" style=\"height:525px; width:100%;\"></div>            <script type=\"text/javascript\">                                    window.PLOTLYENV=window.PLOTLYENV || {};                                    if (document.getElementById(\"f5e94d13-d229-4e0c-82ee-b6c20bf66956\")) {                    Plotly.newPlot(                        \"f5e94d13-d229-4e0c-82ee-b6c20bf66956\",                        [{\"hovertemplate\":\"Neighbors=%{x}<br>Test Error=%{y}<extra></extra>\",\"legendgroup\":\"\",\"marker\":{\"color\":\"#636efa\",\"symbol\":\"circle\"},\"mode\":\"markers\",\"name\":\"\",\"orientation\":\"v\",\"showlegend\":false,\"x\":[1,2,3,4,5,6,7,8,9,10,11,12,13,14,15,16,17,18,19,20,21,22,23,24,25,26,27,28,29,30,31,32,33,34,35,36,37,38,39,40,41,42,43,44,45,46,47,48,49,50,51,52,53,54,55,56,57,58,59,60,61,62,63,64,65,66,67,68,69,70,71,72,73,74,75,76,77,78,79,80,81,82,83,84,85,86,87,88,89,90,91,92,93,94,95,96,97,98,99,100,101,102,103,104,105,106,107,108,109,110,111,112,113,114,115,116,117,118,119,120,121,122,123,124,125,126,127,128,129,130,131,132,133,134,135,136,137,138,139,140,141,142,143,144,145,146,147,148,149,150,151,152,153,154,155,156,157,158,159,160,161,162,163,164,165,166,167,168,169,170,171,172,173,174,175,176,177,178,179,180,181,182,183,184,185,186,187,188,189,190,191,192,193,194,195,196,197,198,199,200],\"xaxis\":\"x\",\"y\":[384697054.85251373,377142948.724697,366408223.537349,374368151.8876995,374783395.53906333,378898648.931389,376272938.21323407,375353615.8029011,372260375.6238793,373262969.8401362,360429432.38196725,349480301.3583344,339525867.7149743,331829074.04839003,325672848.7338017,320521920.52692544,315699481.2335261,312502970.00482285,308568580.6076957,305586848.5968925,302742902.5943624,300111332.0654756,297921193.9580175,297708248.52269316,296950652.32745606,295116090.6043478,294010606.3791372,293069905.6140017,292973143.057169,292060503.8635138,291079463.13651574,290258643.8767555,289498559.43599707,288839427.11640567,289182450.59581333,288728380.7294442,288510469.1072618,288625950.52052546,288525144.2568637,288573201.1790507,288910011.02819,288952478.40923417,288975088.3874025,289244821.7608646,289366867.3096849,289522059.3773743,289756028.6151416,290132330.95009744,290383305.21601784,290719917.7587189,290983985.4026241,291452174.4376794,291835765.5421883,292472714.0227732,293124008.98382956,293542402.67514455,293709855.60020024,294234060.66998607,295048013.85523623,295486328.2780853,295841672.0739783,296344667.9586023,296634914.74307966,297026721.1338519,297475855.4373039,298180989.8502595,298491527.5897881,298865315.4509398,299318054.2252493,299787485.1369604,300156738.640222,300679445.32240975,301102569.8315664,301643024.7042554,301969367.86694074,302350092.95654225,302736130.6266379,303064936.52289426,303555000.29064703,303966666.54365015,304045118.02303994,304473336.83267725,304812895.9212597,304773894.0588986,305132106.0987251,305524979.46369684,305886858.8259006,306256697.80325687,306570013.8327738,306873026.669211,307429877.5409529,307760046.4484865,308159394.9304317,308553437.9155737,308851852.6297299,309177905.32375026,309410717.72290194,309625732.1686684,309766478.3513013,310062654.4217176,310298275.28050435,310603655.53626597,310901525.93037665,311228563.95796895,311538935.7283284,311824952.67538,312071743.54094434,312367859.6189691,312640180.749946,312866985.28540975,313110306.1208856,313434703.31116784,313698832.70841837,313961554.2268623,314217418.9898483,314462902.56962335,314668683.3273655,314972799.35130644,315211606.9499506,315462670.46227294,315626243.04058886,315874010.24148643,316117950.85545605,316335056.90414816,316545305.8397283,316725607.4479341,316930191.1507523,317195154.7942952,317411827.95517486,317667486.98946834,317895606.23952866,318134514.71126986,318366320.0048705,318526159.4984621,318723155.0072433,318913449.8378742,319118400.3455045,319351356.75662947,319588145.7641563,319694563.781587,319805500.3223289,319999097.9514967,320210642.11428356,320411728.6798924,320617677.32134235,320828394.09426755,321065176.04988843,321257928.8544675,321460138.8134866,321637860.5519654,321819768.63136095,322023192.94392055,322199877.26245725,322424878.9471215,322612651.6609663,322811683.97615135,322990438.00363344,323167297.1115759,323341401.0496,323486659.16568905,323652407.9458779,323815165.2423269,324008840.20005053,324182295.4790513,324339319.3218234,324536830.17123115,324706876.4451848,324857770.7359449,325033189.01761854,325240831.0754633,325405180.7218604,325550693.71929836,325701289.84568095,325874978.7059203,326024331.1336122,326186347.2837201,326323175.5501273,326506079.9242867,326671709.7619811,326646718.5590242,326774856.26310503,326923307.96151125,327068774.38304937,327220286.59480554,327371680.9370156,327492458.84835637,327656305.33005357,327728787.86768186,327779171.0485348,327925338.1588531,328105974.84164387,328241408.5369069,328397117.33673847,328545732.1929127,328711010.93492186,328839183.89245677,328970769.02150327,329146440.47609794,329275412.9154085,329400509.7042898],\"yaxis\":\"y\",\"type\":\"scatter\"}],                        {\"template\":{\"data\":{\"bar\":[{\"error_x\":{\"color\":\"#2a3f5f\"},\"error_y\":{\"color\":\"#2a3f5f\"},\"marker\":{\"line\":{\"color\":\"#E5ECF6\",\"width\":0.5},\"pattern\":{\"fillmode\":\"overlay\",\"size\":10,\"solidity\":0.2}},\"type\":\"bar\"}],\"barpolar\":[{\"marker\":{\"line\":{\"color\":\"#E5ECF6\",\"width\":0.5},\"pattern\":{\"fillmode\":\"overlay\",\"size\":10,\"solidity\":0.2}},\"type\":\"barpolar\"}],\"carpet\":[{\"aaxis\":{\"endlinecolor\":\"#2a3f5f\",\"gridcolor\":\"white\",\"linecolor\":\"white\",\"minorgridcolor\":\"white\",\"startlinecolor\":\"#2a3f5f\"},\"baxis\":{\"endlinecolor\":\"#2a3f5f\",\"gridcolor\":\"white\",\"linecolor\":\"white\",\"minorgridcolor\":\"white\",\"startlinecolor\":\"#2a3f5f\"},\"type\":\"carpet\"}],\"choropleth\":[{\"colorbar\":{\"outlinewidth\":0,\"ticks\":\"\"},\"type\":\"choropleth\"}],\"contour\":[{\"colorbar\":{\"outlinewidth\":0,\"ticks\":\"\"},\"colorscale\":[[0.0,\"#0d0887\"],[0.1111111111111111,\"#46039f\"],[0.2222222222222222,\"#7201a8\"],[0.3333333333333333,\"#9c179e\"],[0.4444444444444444,\"#bd3786\"],[0.5555555555555556,\"#d8576b\"],[0.6666666666666666,\"#ed7953\"],[0.7777777777777778,\"#fb9f3a\"],[0.8888888888888888,\"#fdca26\"],[1.0,\"#f0f921\"]],\"type\":\"contour\"}],\"contourcarpet\":[{\"colorbar\":{\"outlinewidth\":0,\"ticks\":\"\"},\"type\":\"contourcarpet\"}],\"heatmap\":[{\"colorbar\":{\"outlinewidth\":0,\"ticks\":\"\"},\"colorscale\":[[0.0,\"#0d0887\"],[0.1111111111111111,\"#46039f\"],[0.2222222222222222,\"#7201a8\"],[0.3333333333333333,\"#9c179e\"],[0.4444444444444444,\"#bd3786\"],[0.5555555555555556,\"#d8576b\"],[0.6666666666666666,\"#ed7953\"],[0.7777777777777778,\"#fb9f3a\"],[0.8888888888888888,\"#fdca26\"],[1.0,\"#f0f921\"]],\"type\":\"heatmap\"}],\"heatmapgl\":[{\"colorbar\":{\"outlinewidth\":0,\"ticks\":\"\"},\"colorscale\":[[0.0,\"#0d0887\"],[0.1111111111111111,\"#46039f\"],[0.2222222222222222,\"#7201a8\"],[0.3333333333333333,\"#9c179e\"],[0.4444444444444444,\"#bd3786\"],[0.5555555555555556,\"#d8576b\"],[0.6666666666666666,\"#ed7953\"],[0.7777777777777778,\"#fb9f3a\"],[0.8888888888888888,\"#fdca26\"],[1.0,\"#f0f921\"]],\"type\":\"heatmapgl\"}],\"histogram\":[{\"marker\":{\"pattern\":{\"fillmode\":\"overlay\",\"size\":10,\"solidity\":0.2}},\"type\":\"histogram\"}],\"histogram2d\":[{\"colorbar\":{\"outlinewidth\":0,\"ticks\":\"\"},\"colorscale\":[[0.0,\"#0d0887\"],[0.1111111111111111,\"#46039f\"],[0.2222222222222222,\"#7201a8\"],[0.3333333333333333,\"#9c179e\"],[0.4444444444444444,\"#bd3786\"],[0.5555555555555556,\"#d8576b\"],[0.6666666666666666,\"#ed7953\"],[0.7777777777777778,\"#fb9f3a\"],[0.8888888888888888,\"#fdca26\"],[1.0,\"#f0f921\"]],\"type\":\"histogram2d\"}],\"histogram2dcontour\":[{\"colorbar\":{\"outlinewidth\":0,\"ticks\":\"\"},\"colorscale\":[[0.0,\"#0d0887\"],[0.1111111111111111,\"#46039f\"],[0.2222222222222222,\"#7201a8\"],[0.3333333333333333,\"#9c179e\"],[0.4444444444444444,\"#bd3786\"],[0.5555555555555556,\"#d8576b\"],[0.6666666666666666,\"#ed7953\"],[0.7777777777777778,\"#fb9f3a\"],[0.8888888888888888,\"#fdca26\"],[1.0,\"#f0f921\"]],\"type\":\"histogram2dcontour\"}],\"mesh3d\":[{\"colorbar\":{\"outlinewidth\":0,\"ticks\":\"\"},\"type\":\"mesh3d\"}],\"parcoords\":[{\"line\":{\"colorbar\":{\"outlinewidth\":0,\"ticks\":\"\"}},\"type\":\"parcoords\"}],\"pie\":[{\"automargin\":true,\"type\":\"pie\"}],\"scatter\":[{\"marker\":{\"colorbar\":{\"outlinewidth\":0,\"ticks\":\"\"}},\"type\":\"scatter\"}],\"scatter3d\":[{\"line\":{\"colorbar\":{\"outlinewidth\":0,\"ticks\":\"\"}},\"marker\":{\"colorbar\":{\"outlinewidth\":0,\"ticks\":\"\"}},\"type\":\"scatter3d\"}],\"scattercarpet\":[{\"marker\":{\"colorbar\":{\"outlinewidth\":0,\"ticks\":\"\"}},\"type\":\"scattercarpet\"}],\"scattergeo\":[{\"marker\":{\"colorbar\":{\"outlinewidth\":0,\"ticks\":\"\"}},\"type\":\"scattergeo\"}],\"scattergl\":[{\"marker\":{\"colorbar\":{\"outlinewidth\":0,\"ticks\":\"\"}},\"type\":\"scattergl\"}],\"scattermapbox\":[{\"marker\":{\"colorbar\":{\"outlinewidth\":0,\"ticks\":\"\"}},\"type\":\"scattermapbox\"}],\"scatterpolar\":[{\"marker\":{\"colorbar\":{\"outlinewidth\":0,\"ticks\":\"\"}},\"type\":\"scatterpolar\"}],\"scatterpolargl\":[{\"marker\":{\"colorbar\":{\"outlinewidth\":0,\"ticks\":\"\"}},\"type\":\"scatterpolargl\"}],\"scatterternary\":[{\"marker\":{\"colorbar\":{\"outlinewidth\":0,\"ticks\":\"\"}},\"type\":\"scatterternary\"}],\"surface\":[{\"colorbar\":{\"outlinewidth\":0,\"ticks\":\"\"},\"colorscale\":[[0.0,\"#0d0887\"],[0.1111111111111111,\"#46039f\"],[0.2222222222222222,\"#7201a8\"],[0.3333333333333333,\"#9c179e\"],[0.4444444444444444,\"#bd3786\"],[0.5555555555555556,\"#d8576b\"],[0.6666666666666666,\"#ed7953\"],[0.7777777777777778,\"#fb9f3a\"],[0.8888888888888888,\"#fdca26\"],[1.0,\"#f0f921\"]],\"type\":\"surface\"}],\"table\":[{\"cells\":{\"fill\":{\"color\":\"#EBF0F8\"},\"line\":{\"color\":\"white\"}},\"header\":{\"fill\":{\"color\":\"#C8D4E3\"},\"line\":{\"color\":\"white\"}},\"type\":\"table\"}]},\"layout\":{\"annotationdefaults\":{\"arrowcolor\":\"#2a3f5f\",\"arrowhead\":0,\"arrowwidth\":1},\"autotypenumbers\":\"strict\",\"coloraxis\":{\"colorbar\":{\"outlinewidth\":0,\"ticks\":\"\"}},\"colorscale\":{\"diverging\":[[0,\"#8e0152\"],[0.1,\"#c51b7d\"],[0.2,\"#de77ae\"],[0.3,\"#f1b6da\"],[0.4,\"#fde0ef\"],[0.5,\"#f7f7f7\"],[0.6,\"#e6f5d0\"],[0.7,\"#b8e186\"],[0.8,\"#7fbc41\"],[0.9,\"#4d9221\"],[1,\"#276419\"]],\"sequential\":[[0.0,\"#0d0887\"],[0.1111111111111111,\"#46039f\"],[0.2222222222222222,\"#7201a8\"],[0.3333333333333333,\"#9c179e\"],[0.4444444444444444,\"#bd3786\"],[0.5555555555555556,\"#d8576b\"],[0.6666666666666666,\"#ed7953\"],[0.7777777777777778,\"#fb9f3a\"],[0.8888888888888888,\"#fdca26\"],[1.0,\"#f0f921\"]],\"sequentialminus\":[[0.0,\"#0d0887\"],[0.1111111111111111,\"#46039f\"],[0.2222222222222222,\"#7201a8\"],[0.3333333333333333,\"#9c179e\"],[0.4444444444444444,\"#bd3786\"],[0.5555555555555556,\"#d8576b\"],[0.6666666666666666,\"#ed7953\"],[0.7777777777777778,\"#fb9f3a\"],[0.8888888888888888,\"#fdca26\"],[1.0,\"#f0f921\"]]},\"colorway\":[\"#636efa\",\"#EF553B\",\"#00cc96\",\"#ab63fa\",\"#FFA15A\",\"#19d3f3\",\"#FF6692\",\"#B6E880\",\"#FF97FF\",\"#FECB52\"],\"font\":{\"color\":\"#2a3f5f\"},\"geo\":{\"bgcolor\":\"white\",\"lakecolor\":\"white\",\"landcolor\":\"#E5ECF6\",\"showlakes\":true,\"showland\":true,\"subunitcolor\":\"white\"},\"hoverlabel\":{\"align\":\"left\"},\"hovermode\":\"closest\",\"mapbox\":{\"style\":\"light\"},\"paper_bgcolor\":\"white\",\"plot_bgcolor\":\"#E5ECF6\",\"polar\":{\"angularaxis\":{\"gridcolor\":\"white\",\"linecolor\":\"white\",\"ticks\":\"\"},\"bgcolor\":\"#E5ECF6\",\"radialaxis\":{\"gridcolor\":\"white\",\"linecolor\":\"white\",\"ticks\":\"\"}},\"scene\":{\"xaxis\":{\"backgroundcolor\":\"#E5ECF6\",\"gridcolor\":\"white\",\"gridwidth\":2,\"linecolor\":\"white\",\"showbackground\":true,\"ticks\":\"\",\"zerolinecolor\":\"white\"},\"yaxis\":{\"backgroundcolor\":\"#E5ECF6\",\"gridcolor\":\"white\",\"gridwidth\":2,\"linecolor\":\"white\",\"showbackground\":true,\"ticks\":\"\",\"zerolinecolor\":\"white\"},\"zaxis\":{\"backgroundcolor\":\"#E5ECF6\",\"gridcolor\":\"white\",\"gridwidth\":2,\"linecolor\":\"white\",\"showbackground\":true,\"ticks\":\"\",\"zerolinecolor\":\"white\"}},\"shapedefaults\":{\"line\":{\"color\":\"#2a3f5f\"}},\"ternary\":{\"aaxis\":{\"gridcolor\":\"white\",\"linecolor\":\"white\",\"ticks\":\"\"},\"baxis\":{\"gridcolor\":\"white\",\"linecolor\":\"white\",\"ticks\":\"\"},\"bgcolor\":\"#E5ECF6\",\"caxis\":{\"gridcolor\":\"white\",\"linecolor\":\"white\",\"ticks\":\"\"}},\"title\":{\"x\":0.05},\"xaxis\":{\"automargin\":true,\"gridcolor\":\"white\",\"linecolor\":\"white\",\"ticks\":\"\",\"title\":{\"standoff\":15},\"zerolinecolor\":\"white\",\"zerolinewidth\":2},\"yaxis\":{\"automargin\":true,\"gridcolor\":\"white\",\"linecolor\":\"white\",\"ticks\":\"\",\"title\":{\"standoff\":15},\"zerolinecolor\":\"white\",\"zerolinewidth\":2}}},\"xaxis\":{\"anchor\":\"y\",\"domain\":[0.0,1.0],\"title\":{\"text\":\"Neighbors\"}},\"yaxis\":{\"anchor\":\"x\",\"domain\":[0.0,1.0],\"title\":{\"text\":\"Test Error\"}},\"legend\":{\"tracegroupgap\":0},\"title\":{\"text\":\"Test Error for K-Nearest Neighbors Regressor without Energy\"}},                        {\"responsive\": true}                    ).then(function(){\n",
              "                            \n",
              "var gd = document.getElementById('f5e94d13-d229-4e0c-82ee-b6c20bf66956');\n",
              "var x = new MutationObserver(function (mutations, observer) {{\n",
              "        var display = window.getComputedStyle(gd).display;\n",
              "        if (!display || display === 'none') {{\n",
              "            console.log([gd, 'removed!']);\n",
              "            Plotly.purge(gd);\n",
              "            observer.disconnect();\n",
              "        }}\n",
              "}});\n",
              "\n",
              "// Listen for the removal of the full notebook cells\n",
              "var notebookContainer = gd.closest('#notebook-container');\n",
              "if (notebookContainer) {{\n",
              "    x.observe(notebookContainer, {childList: true});\n",
              "}}\n",
              "\n",
              "// Listen for the clearing of the current output cell\n",
              "var outputEl = gd.closest('.output');\n",
              "if (outputEl) {{\n",
              "    x.observe(outputEl, {childList: true});\n",
              "}}\n",
              "\n",
              "                        })                };                            </script>        </div>\n",
              "</body>\n",
              "</html>"
            ]
          },
          "metadata": {}
        }
      ]
    },
    {
      "cell_type": "markdown",
      "source": [
        "Test Error is lowest for 37 Neighbors"
      ],
      "metadata": {
        "id": "QH2GizeJ_blE"
      }
    },
    {
      "cell_type": "code",
      "source": [
        "scores = []\n",
        "for i in range(1, 201):\n",
        "  pipeline = make_pipeline(\n",
        "      StandardScaler(),\n",
        "      KNeighborsRegressor(n_neighbors=i)\n",
        "  )\n",
        "  scores.append(-cross_val_score(\n",
        "      pipeline,\n",
        "      X=no_energy_X,\n",
        "      y=no_energy_y_log,\n",
        "      scoring=\"neg_root_mean_squared_error\",\n",
        "      cv=10\n",
        "  ).mean())\n",
        "px.scatter(x=[i for i in range(1, 201)], y=scores, \n",
        "           title=\"Test Error for K-Nearest Neighbors Regressor without Energy\",\n",
        "           labels={\"x\":\"Neighbors\", \"y\":\"Log Test Error\"})"
      ],
      "metadata": {
        "colab": {
          "base_uri": "https://localhost:8080/",
          "height": 542
        },
        "id": "R2y1UTs7Rkol",
        "outputId": "4fa71f28-6dc8-41b0-8907-7653a5b10c50"
      },
      "execution_count": 13,
      "outputs": [
        {
          "output_type": "display_data",
          "data": {
            "text/html": [
              "<html>\n",
              "<head><meta charset=\"utf-8\" /></head>\n",
              "<body>\n",
              "    <div>            <script src=\"https://cdnjs.cloudflare.com/ajax/libs/mathjax/2.7.5/MathJax.js?config=TeX-AMS-MML_SVG\"></script><script type=\"text/javascript\">if (window.MathJax) {MathJax.Hub.Config({SVG: {font: \"STIX-Web\"}});}</script>                <script type=\"text/javascript\">window.PlotlyConfig = {MathJaxConfig: 'local'};</script>\n",
              "        <script src=\"https://cdn.plot.ly/plotly-2.8.3.min.js\"></script>                <div id=\"cc8df5df-7f3f-4867-98c0-7371edacf7fa\" class=\"plotly-graph-div\" style=\"height:525px; width:100%;\"></div>            <script type=\"text/javascript\">                                    window.PLOTLYENV=window.PLOTLYENV || {};                                    if (document.getElementById(\"cc8df5df-7f3f-4867-98c0-7371edacf7fa\")) {                    Plotly.newPlot(                        \"cc8df5df-7f3f-4867-98c0-7371edacf7fa\",                        [{\"hovertemplate\":\"Neighbors=%{x}<br>Log Test Error=%{y}<extra></extra>\",\"legendgroup\":\"\",\"marker\":{\"color\":\"#636efa\",\"symbol\":\"circle\"},\"mode\":\"markers\",\"name\":\"\",\"orientation\":\"v\",\"showlegend\":false,\"x\":[1,2,3,4,5,6,7,8,9,10,11,12,13,14,15,16,17,18,19,20,21,22,23,24,25,26,27,28,29,30,31,32,33,34,35,36,37,38,39,40,41,42,43,44,45,46,47,48,49,50,51,52,53,54,55,56,57,58,59,60,61,62,63,64,65,66,67,68,69,70,71,72,73,74,75,76,77,78,79,80,81,82,83,84,85,86,87,88,89,90,91,92,93,94,95,96,97,98,99,100,101,102,103,104,105,106,107,108,109,110,111,112,113,114,115,116,117,118,119,120,121,122,123,124,125,126,127,128,129,130,131,132,133,134,135,136,137,138,139,140,141,142,143,144,145,146,147,148,149,150,151,152,153,154,155,156,157,158,159,160,161,162,163,164,165,166,167,168,169,170,171,172,173,174,175,176,177,178,179,180,181,182,183,184,185,186,187,188,189,190,191,192,193,194,195,196,197,198,199,200],\"xaxis\":\"x\",\"y\":[0.873953301738086,0.8279337079229363,0.8032410025987724,0.7853531069926781,0.7688377293469191,0.7590148301657852,0.7508067482560375,0.7463039802616008,0.7394154648240141,0.7343774186343512,0.7299836370306206,0.7261687324055064,0.7230412223170676,0.7218386104243066,0.7191886674046234,0.7167681223063036,0.7149782658879404,0.7143213149762847,0.7136919751622987,0.7130036518640306,0.7112631043169813,0.7123532329740069,0.7132003639752348,0.7133906144262477,0.7130010075324721,0.7122471516599935,0.7117859113740599,0.7116395280455567,0.7119108942934809,0.7121790703105593,0.7122963826864185,0.712017969668772,0.7129781602541818,0.7127117591825686,0.7129329633093615,0.7136599061008194,0.7138583847503146,0.7150324908683782,0.7157239655368204,0.7159755230743913,0.716747318833951,0.7172889073377695,0.7182905920179624,0.7192726410421744,0.7201300612592993,0.7214479058298455,0.7220764584619154,0.7226875424945198,0.7231975453872617,0.7240462572838489,0.7247210541760317,0.7250058355467498,0.7262174947267914,0.7273242624661818,0.7279865302287379,0.7290470647094189,0.7301011200934995,0.7303579777300974,0.731054565800871,0.7316607223182889,0.7322924505258465,0.7331131270119938,0.7338321107313617,0.7342796301739801,0.73515947475604,0.735726402354808,0.7362088486226248,0.7368672185732386,0.7376272646622424,0.7383526174272951,0.7391063119692368,0.7398512478079315,0.7402473241780544,0.7413163111422778,0.7421707569694902,0.7430236942432632,0.7433357101363007,0.7439549487866761,0.7448332668060911,0.7455305063324326,0.7461063265969552,0.7468680719267584,0.7472825294115687,0.7477378526200716,0.7484716662858947,0.7487444155984999,0.74942508131939,0.7499598839589654,0.7504630320643347,0.7508408873171626,0.7514057918993176,0.7518152761572472,0.75244910378141,0.7528926591616256,0.7532800820908732,0.7537662697891581,0.7544856282372863,0.7550978590519284,0.7554884652142728,0.7558680217904972,0.7564786530394694,0.7570360119848187,0.757762199744318,0.7582017731778935,0.758892329663438,0.7592630346877446,0.7598363110442976,0.7604157776159473,0.7611957448969833,0.761592807133978,0.7621873530777235,0.762815644858392,0.7631616321785575,0.76389917538418,0.7643030249732649,0.7647317852378659,0.7651358476768477,0.7657126956283467,0.7661161005837502,0.7666826975032859,0.7671041821980029,0.7674997612428273,0.7680438018507932,0.7682195460467438,0.7685420753797849,0.7689936088021408,0.7695949652025049,0.7699281942238907,0.770490529083158,0.7710158211307014,0.7714563609288388,0.7718487221904329,0.7723176112766492,0.7726209640026147,0.7728877258152591,0.7733711749516636,0.7738383073612589,0.774422310159663,0.7749235378222614,0.7755770591227821,0.776014558511873,0.7763808478667127,0.776741716774748,0.7771057005717269,0.7774910905236212,0.7778974888238859,0.7783718052915912,0.7788846957803036,0.779319728696688,0.7795687161264926,0.7800198929722337,0.7803480748261429,0.7808295692229714,0.7812624923758846,0.7818757509013469,0.7824049903604934,0.7827953199316687,0.7832201042425342,0.783657499956043,0.7840389472455702,0.7842318703509343,0.7846522970219321,0.7851338094070416,0.7855733565478882,0.7859020141027324,0.7863864104780163,0.7866597583646231,0.7872028199253809,0.7874381294016216,0.7878482768970936,0.7882058529347079,0.7886701744784649,0.7889645279104909,0.7893796726451052,0.7897228155444239,0.7900609685241596,0.7904500696712866,0.7908535821572313,0.7911072809477663,0.7914419036731984,0.7917543181619452,0.792167551768356,0.7924282397149568,0.7925518528132068,0.7927508122200526,0.7930046511096612,0.7934114939525719,0.7937462489932896,0.7941330796610611,0.7945718605049568,0.7949910229588062,0.7952816393821125,0.795544556610661,0.7959265536052228,0.796350582544249,0.7967084064971259,0.7969856196187161,0.7974177590902566,0.7976693505615736,0.7980985525176988],\"yaxis\":\"y\",\"type\":\"scatter\"}],                        {\"template\":{\"data\":{\"bar\":[{\"error_x\":{\"color\":\"#2a3f5f\"},\"error_y\":{\"color\":\"#2a3f5f\"},\"marker\":{\"line\":{\"color\":\"#E5ECF6\",\"width\":0.5},\"pattern\":{\"fillmode\":\"overlay\",\"size\":10,\"solidity\":0.2}},\"type\":\"bar\"}],\"barpolar\":[{\"marker\":{\"line\":{\"color\":\"#E5ECF6\",\"width\":0.5},\"pattern\":{\"fillmode\":\"overlay\",\"size\":10,\"solidity\":0.2}},\"type\":\"barpolar\"}],\"carpet\":[{\"aaxis\":{\"endlinecolor\":\"#2a3f5f\",\"gridcolor\":\"white\",\"linecolor\":\"white\",\"minorgridcolor\":\"white\",\"startlinecolor\":\"#2a3f5f\"},\"baxis\":{\"endlinecolor\":\"#2a3f5f\",\"gridcolor\":\"white\",\"linecolor\":\"white\",\"minorgridcolor\":\"white\",\"startlinecolor\":\"#2a3f5f\"},\"type\":\"carpet\"}],\"choropleth\":[{\"colorbar\":{\"outlinewidth\":0,\"ticks\":\"\"},\"type\":\"choropleth\"}],\"contour\":[{\"colorbar\":{\"outlinewidth\":0,\"ticks\":\"\"},\"colorscale\":[[0.0,\"#0d0887\"],[0.1111111111111111,\"#46039f\"],[0.2222222222222222,\"#7201a8\"],[0.3333333333333333,\"#9c179e\"],[0.4444444444444444,\"#bd3786\"],[0.5555555555555556,\"#d8576b\"],[0.6666666666666666,\"#ed7953\"],[0.7777777777777778,\"#fb9f3a\"],[0.8888888888888888,\"#fdca26\"],[1.0,\"#f0f921\"]],\"type\":\"contour\"}],\"contourcarpet\":[{\"colorbar\":{\"outlinewidth\":0,\"ticks\":\"\"},\"type\":\"contourcarpet\"}],\"heatmap\":[{\"colorbar\":{\"outlinewidth\":0,\"ticks\":\"\"},\"colorscale\":[[0.0,\"#0d0887\"],[0.1111111111111111,\"#46039f\"],[0.2222222222222222,\"#7201a8\"],[0.3333333333333333,\"#9c179e\"],[0.4444444444444444,\"#bd3786\"],[0.5555555555555556,\"#d8576b\"],[0.6666666666666666,\"#ed7953\"],[0.7777777777777778,\"#fb9f3a\"],[0.8888888888888888,\"#fdca26\"],[1.0,\"#f0f921\"]],\"type\":\"heatmap\"}],\"heatmapgl\":[{\"colorbar\":{\"outlinewidth\":0,\"ticks\":\"\"},\"colorscale\":[[0.0,\"#0d0887\"],[0.1111111111111111,\"#46039f\"],[0.2222222222222222,\"#7201a8\"],[0.3333333333333333,\"#9c179e\"],[0.4444444444444444,\"#bd3786\"],[0.5555555555555556,\"#d8576b\"],[0.6666666666666666,\"#ed7953\"],[0.7777777777777778,\"#fb9f3a\"],[0.8888888888888888,\"#fdca26\"],[1.0,\"#f0f921\"]],\"type\":\"heatmapgl\"}],\"histogram\":[{\"marker\":{\"pattern\":{\"fillmode\":\"overlay\",\"size\":10,\"solidity\":0.2}},\"type\":\"histogram\"}],\"histogram2d\":[{\"colorbar\":{\"outlinewidth\":0,\"ticks\":\"\"},\"colorscale\":[[0.0,\"#0d0887\"],[0.1111111111111111,\"#46039f\"],[0.2222222222222222,\"#7201a8\"],[0.3333333333333333,\"#9c179e\"],[0.4444444444444444,\"#bd3786\"],[0.5555555555555556,\"#d8576b\"],[0.6666666666666666,\"#ed7953\"],[0.7777777777777778,\"#fb9f3a\"],[0.8888888888888888,\"#fdca26\"],[1.0,\"#f0f921\"]],\"type\":\"histogram2d\"}],\"histogram2dcontour\":[{\"colorbar\":{\"outlinewidth\":0,\"ticks\":\"\"},\"colorscale\":[[0.0,\"#0d0887\"],[0.1111111111111111,\"#46039f\"],[0.2222222222222222,\"#7201a8\"],[0.3333333333333333,\"#9c179e\"],[0.4444444444444444,\"#bd3786\"],[0.5555555555555556,\"#d8576b\"],[0.6666666666666666,\"#ed7953\"],[0.7777777777777778,\"#fb9f3a\"],[0.8888888888888888,\"#fdca26\"],[1.0,\"#f0f921\"]],\"type\":\"histogram2dcontour\"}],\"mesh3d\":[{\"colorbar\":{\"outlinewidth\":0,\"ticks\":\"\"},\"type\":\"mesh3d\"}],\"parcoords\":[{\"line\":{\"colorbar\":{\"outlinewidth\":0,\"ticks\":\"\"}},\"type\":\"parcoords\"}],\"pie\":[{\"automargin\":true,\"type\":\"pie\"}],\"scatter\":[{\"marker\":{\"colorbar\":{\"outlinewidth\":0,\"ticks\":\"\"}},\"type\":\"scatter\"}],\"scatter3d\":[{\"line\":{\"colorbar\":{\"outlinewidth\":0,\"ticks\":\"\"}},\"marker\":{\"colorbar\":{\"outlinewidth\":0,\"ticks\":\"\"}},\"type\":\"scatter3d\"}],\"scattercarpet\":[{\"marker\":{\"colorbar\":{\"outlinewidth\":0,\"ticks\":\"\"}},\"type\":\"scattercarpet\"}],\"scattergeo\":[{\"marker\":{\"colorbar\":{\"outlinewidth\":0,\"ticks\":\"\"}},\"type\":\"scattergeo\"}],\"scattergl\":[{\"marker\":{\"colorbar\":{\"outlinewidth\":0,\"ticks\":\"\"}},\"type\":\"scattergl\"}],\"scattermapbox\":[{\"marker\":{\"colorbar\":{\"outlinewidth\":0,\"ticks\":\"\"}},\"type\":\"scattermapbox\"}],\"scatterpolar\":[{\"marker\":{\"colorbar\":{\"outlinewidth\":0,\"ticks\":\"\"}},\"type\":\"scatterpolar\"}],\"scatterpolargl\":[{\"marker\":{\"colorbar\":{\"outlinewidth\":0,\"ticks\":\"\"}},\"type\":\"scatterpolargl\"}],\"scatterternary\":[{\"marker\":{\"colorbar\":{\"outlinewidth\":0,\"ticks\":\"\"}},\"type\":\"scatterternary\"}],\"surface\":[{\"colorbar\":{\"outlinewidth\":0,\"ticks\":\"\"},\"colorscale\":[[0.0,\"#0d0887\"],[0.1111111111111111,\"#46039f\"],[0.2222222222222222,\"#7201a8\"],[0.3333333333333333,\"#9c179e\"],[0.4444444444444444,\"#bd3786\"],[0.5555555555555556,\"#d8576b\"],[0.6666666666666666,\"#ed7953\"],[0.7777777777777778,\"#fb9f3a\"],[0.8888888888888888,\"#fdca26\"],[1.0,\"#f0f921\"]],\"type\":\"surface\"}],\"table\":[{\"cells\":{\"fill\":{\"color\":\"#EBF0F8\"},\"line\":{\"color\":\"white\"}},\"header\":{\"fill\":{\"color\":\"#C8D4E3\"},\"line\":{\"color\":\"white\"}},\"type\":\"table\"}]},\"layout\":{\"annotationdefaults\":{\"arrowcolor\":\"#2a3f5f\",\"arrowhead\":0,\"arrowwidth\":1},\"autotypenumbers\":\"strict\",\"coloraxis\":{\"colorbar\":{\"outlinewidth\":0,\"ticks\":\"\"}},\"colorscale\":{\"diverging\":[[0,\"#8e0152\"],[0.1,\"#c51b7d\"],[0.2,\"#de77ae\"],[0.3,\"#f1b6da\"],[0.4,\"#fde0ef\"],[0.5,\"#f7f7f7\"],[0.6,\"#e6f5d0\"],[0.7,\"#b8e186\"],[0.8,\"#7fbc41\"],[0.9,\"#4d9221\"],[1,\"#276419\"]],\"sequential\":[[0.0,\"#0d0887\"],[0.1111111111111111,\"#46039f\"],[0.2222222222222222,\"#7201a8\"],[0.3333333333333333,\"#9c179e\"],[0.4444444444444444,\"#bd3786\"],[0.5555555555555556,\"#d8576b\"],[0.6666666666666666,\"#ed7953\"],[0.7777777777777778,\"#fb9f3a\"],[0.8888888888888888,\"#fdca26\"],[1.0,\"#f0f921\"]],\"sequentialminus\":[[0.0,\"#0d0887\"],[0.1111111111111111,\"#46039f\"],[0.2222222222222222,\"#7201a8\"],[0.3333333333333333,\"#9c179e\"],[0.4444444444444444,\"#bd3786\"],[0.5555555555555556,\"#d8576b\"],[0.6666666666666666,\"#ed7953\"],[0.7777777777777778,\"#fb9f3a\"],[0.8888888888888888,\"#fdca26\"],[1.0,\"#f0f921\"]]},\"colorway\":[\"#636efa\",\"#EF553B\",\"#00cc96\",\"#ab63fa\",\"#FFA15A\",\"#19d3f3\",\"#FF6692\",\"#B6E880\",\"#FF97FF\",\"#FECB52\"],\"font\":{\"color\":\"#2a3f5f\"},\"geo\":{\"bgcolor\":\"white\",\"lakecolor\":\"white\",\"landcolor\":\"#E5ECF6\",\"showlakes\":true,\"showland\":true,\"subunitcolor\":\"white\"},\"hoverlabel\":{\"align\":\"left\"},\"hovermode\":\"closest\",\"mapbox\":{\"style\":\"light\"},\"paper_bgcolor\":\"white\",\"plot_bgcolor\":\"#E5ECF6\",\"polar\":{\"angularaxis\":{\"gridcolor\":\"white\",\"linecolor\":\"white\",\"ticks\":\"\"},\"bgcolor\":\"#E5ECF6\",\"radialaxis\":{\"gridcolor\":\"white\",\"linecolor\":\"white\",\"ticks\":\"\"}},\"scene\":{\"xaxis\":{\"backgroundcolor\":\"#E5ECF6\",\"gridcolor\":\"white\",\"gridwidth\":2,\"linecolor\":\"white\",\"showbackground\":true,\"ticks\":\"\",\"zerolinecolor\":\"white\"},\"yaxis\":{\"backgroundcolor\":\"#E5ECF6\",\"gridcolor\":\"white\",\"gridwidth\":2,\"linecolor\":\"white\",\"showbackground\":true,\"ticks\":\"\",\"zerolinecolor\":\"white\"},\"zaxis\":{\"backgroundcolor\":\"#E5ECF6\",\"gridcolor\":\"white\",\"gridwidth\":2,\"linecolor\":\"white\",\"showbackground\":true,\"ticks\":\"\",\"zerolinecolor\":\"white\"}},\"shapedefaults\":{\"line\":{\"color\":\"#2a3f5f\"}},\"ternary\":{\"aaxis\":{\"gridcolor\":\"white\",\"linecolor\":\"white\",\"ticks\":\"\"},\"baxis\":{\"gridcolor\":\"white\",\"linecolor\":\"white\",\"ticks\":\"\"},\"bgcolor\":\"#E5ECF6\",\"caxis\":{\"gridcolor\":\"white\",\"linecolor\":\"white\",\"ticks\":\"\"}},\"title\":{\"x\":0.05},\"xaxis\":{\"automargin\":true,\"gridcolor\":\"white\",\"linecolor\":\"white\",\"ticks\":\"\",\"title\":{\"standoff\":15},\"zerolinecolor\":\"white\",\"zerolinewidth\":2},\"yaxis\":{\"automargin\":true,\"gridcolor\":\"white\",\"linecolor\":\"white\",\"ticks\":\"\",\"title\":{\"standoff\":15},\"zerolinecolor\":\"white\",\"zerolinewidth\":2}}},\"xaxis\":{\"anchor\":\"y\",\"domain\":[0.0,1.0],\"title\":{\"text\":\"Neighbors\"}},\"yaxis\":{\"anchor\":\"x\",\"domain\":[0.0,1.0],\"title\":{\"text\":\"Log Test Error\"}},\"legend\":{\"tracegroupgap\":0},\"title\":{\"text\":\"Test Error for K-Nearest Neighbors Regressor without Energy\"}},                        {\"responsive\": true}                    ).then(function(){\n",
              "                            \n",
              "var gd = document.getElementById('cc8df5df-7f3f-4867-98c0-7371edacf7fa');\n",
              "var x = new MutationObserver(function (mutations, observer) {{\n",
              "        var display = window.getComputedStyle(gd).display;\n",
              "        if (!display || display === 'none') {{\n",
              "            console.log([gd, 'removed!']);\n",
              "            Plotly.purge(gd);\n",
              "            observer.disconnect();\n",
              "        }}\n",
              "}});\n",
              "\n",
              "// Listen for the removal of the full notebook cells\n",
              "var notebookContainer = gd.closest('#notebook-container');\n",
              "if (notebookContainer) {{\n",
              "    x.observe(notebookContainer, {childList: true});\n",
              "}}\n",
              "\n",
              "// Listen for the clearing of the current output cell\n",
              "var outputEl = gd.closest('.output');\n",
              "if (outputEl) {{\n",
              "    x.observe(outputEl, {childList: true});\n",
              "}}\n",
              "\n",
              "                        })                };                            </script>        </div>\n",
              "</body>\n",
              "</html>"
            ]
          },
          "metadata": {}
        }
      ]
    },
    {
      "cell_type": "markdown",
      "source": [
        "Test error is lowest for 21 neighbors"
      ],
      "metadata": {
        "id": "SCwlimNtShpo"
      }
    },
    {
      "cell_type": "markdown",
      "source": [
        "### Linear Regression"
      ],
      "metadata": {
        "id": "uWP_K-WOwG7R"
      }
    },
    {
      "cell_type": "code",
      "source": [
        "pipeline = make_pipeline(\n",
        "      StandardScaler(),\n",
        "      LinearRegression()\n",
        "  )\n",
        "-cross_val_score(\n",
        "    pipeline,\n",
        "    X=no_energy_X,\n",
        "    y=no_energy_y,\n",
        "    scoring=\"neg_root_mean_squared_error\",\n",
        "    cv=10\n",
        ").mean()"
      ],
      "metadata": {
        "colab": {
          "base_uri": "https://localhost:8080/"
        },
        "id": "ndqogaJZwhJz",
        "outputId": "c3b5861c-5b6e-4d16-858a-d22de310a4dd"
      },
      "execution_count": 14,
      "outputs": [
        {
          "output_type": "execute_result",
          "data": {
            "text/plain": [
              "440013110.7558632"
            ]
          },
          "metadata": {},
          "execution_count": 14
        }
      ]
    },
    {
      "cell_type": "code",
      "source": [
        "no_energy_y_log = np.log10(no_energy_y)\n",
        "pipeline = make_pipeline(\n",
        "      StandardScaler(),\n",
        "      LinearRegression()\n",
        "  )\n",
        "-cross_val_score(\n",
        "    pipeline,\n",
        "    X=no_energy_X,\n",
        "    y=no_energy_y_log,\n",
        "    scoring=\"neg_root_mean_squared_error\",\n",
        "    cv=10\n",
        ").mean()"
      ],
      "metadata": {
        "colab": {
          "base_uri": "https://localhost:8080/"
        },
        "id": "1EkN63x5w0Pa",
        "outputId": "7431f255-50bb-4357-824a-b9d2c2dd39d7"
      },
      "execution_count": 15,
      "outputs": [
        {
          "output_type": "execute_result",
          "data": {
            "text/plain": [
              "0.8464584499587218"
            ]
          },
          "metadata": {},
          "execution_count": 15
        }
      ]
    },
    {
      "cell_type": "markdown",
      "source": [
        "### Simple Ensemble"
      ],
      "metadata": {
        "id": "31JXEYCksiQD"
      }
    },
    {
      "cell_type": "code",
      "source": [
        "KNeighbors = make_pipeline(\n",
        "      StandardScaler(),\n",
        "      KNeighborsRegressor(n_neighbors=37)\n",
        "  )\n",
        "Linear = make_pipeline(\n",
        "      StandardScaler(),\n",
        "      LinearRegression()\n",
        "  )\n",
        "Voter = VotingRegressor([(\"Neighbors\", KNeighbors), (\"Linear\", Linear)])\n",
        "-cross_val_score(\n",
        "    Voter,\n",
        "    X=no_energy_X,\n",
        "    y=no_energy_y,\n",
        "    scoring=\"neg_root_mean_squared_error\",\n",
        "    cv=10\n",
        ").mean()"
      ],
      "metadata": {
        "colab": {
          "base_uri": "https://localhost:8080/"
        },
        "id": "xQjDQDqtskO3",
        "outputId": "dcce97e8-67bf-4173-cd4c-ce67a3dc8c90"
      },
      "execution_count": 16,
      "outputs": [
        {
          "output_type": "execute_result",
          "data": {
            "text/plain": [
              "325300436.47102344"
            ]
          },
          "metadata": {},
          "execution_count": 16
        }
      ]
    },
    {
      "cell_type": "code",
      "source": [
        "-cross_val_score(\n",
        "    Voter,\n",
        "    X=no_energy_X,\n",
        "    y=no_energy_y_log,\n",
        "    scoring=\"neg_root_mean_squared_error\",\n",
        "    cv=10\n",
        ").mean()"
      ],
      "metadata": {
        "colab": {
          "base_uri": "https://localhost:8080/"
        },
        "id": "YfvFNCm0ts_2",
        "outputId": "e6f82289-07ba-437b-ce25-fb7aba1b1656"
      },
      "execution_count": 17,
      "outputs": [
        {
          "output_type": "execute_result",
          "data": {
            "text/plain": [
              "0.7392679934843263"
            ]
          },
          "metadata": {},
          "execution_count": 17
        }
      ]
    },
    {
      "cell_type": "code",
      "source": [
        "Stack = StackingRegressor([(\"Neighbors\", KNeighbors), (\"Linear\", Linear)])\n",
        "-cross_val_score(\n",
        "    Stack,\n",
        "    X=no_energy_X,\n",
        "    y=no_energy_y,\n",
        "    scoring=\"neg_root_mean_squared_error\",\n",
        "    cv=10\n",
        ").mean()"
      ],
      "metadata": {
        "colab": {
          "base_uri": "https://localhost:8080/"
        },
        "id": "NqJj9euitiYh",
        "outputId": "b65d50ab-47c7-41b7-c07d-a56bbd5ad324"
      },
      "execution_count": 18,
      "outputs": [
        {
          "output_type": "execute_result",
          "data": {
            "text/plain": [
              "2068377339090239.5"
            ]
          },
          "metadata": {},
          "execution_count": 18
        }
      ]
    },
    {
      "cell_type": "code",
      "source": [
        "Stack = StackingRegressor([(\"Neighbors\", KNeighbors), (\"Linear\", Linear)])\n",
        "-cross_val_score(\n",
        "    Stack,\n",
        "    X=no_energy_X,\n",
        "    y=no_energy_y_log,\n",
        "    scoring=\"neg_root_mean_squared_error\",\n",
        "    cv=10\n",
        ").mean()"
      ],
      "metadata": {
        "colab": {
          "base_uri": "https://localhost:8080/"
        },
        "id": "Ln2RcAWWuRJf",
        "outputId": "db1de666-b68e-4168-efa9-772e57a37f26"
      },
      "execution_count": 19,
      "outputs": [
        {
          "output_type": "execute_result",
          "data": {
            "text/plain": [
              "0.7066144073813833"
            ]
          },
          "metadata": {},
          "execution_count": 19
        }
      ]
    },
    {
      "cell_type": "markdown",
      "source": [
        "### XGBoost"
      ],
      "metadata": {
        "id": "P46bQCt2r1pB"
      }
    },
    {
      "cell_type": "code",
      "source": [
        "pipeline = make_pipeline(\n",
        "      StandardScaler(),\n",
        "      XGBRegressor()\n",
        "  )\n",
        "-cross_val_score(\n",
        "    pipeline,\n",
        "    X=no_energy_X,\n",
        "    y=no_energy_y,\n",
        "    scoring=\"neg_root_mean_squared_error\",\n",
        "    cv=10\n",
        ").mean()"
      ],
      "metadata": {
        "colab": {
          "base_uri": "https://localhost:8080/"
        },
        "id": "no9GSDflryVC",
        "outputId": "cd4c1147-71d5-43e5-8dad-c08d8318a1b1"
      },
      "execution_count": 20,
      "outputs": [
        {
          "output_type": "execute_result",
          "data": {
            "text/plain": [
              "321789550.34002036"
            ]
          },
          "metadata": {},
          "execution_count": 20
        }
      ]
    },
    {
      "cell_type": "code",
      "source": [
        "params = {\"xgbregressor__eta\":uniform(0.01, 0.2),\n",
        "          \"xgbregressor__n_estimators\":randint(100, 500),\n",
        "          \"xgbregressor__max_depth\":randint(3, 10),\n",
        "          \"xgbregressor__min_child_weight\":uniform(3, 20),\n",
        "          \"xgbregressor__reg_alpha\":uniform(0.01, 0.2),\n",
        "          \"xgbregressor__reg_lambda\":uniform(0.01, 0.2)}\n",
        "\n",
        "rscv = RandomizedSearchCV(\n",
        "    pipeline,\n",
        "    params,\n",
        "    n_iter=100,\n",
        "    scoring=\"neg_root_mean_squared_error\",\n",
        "    n_jobs=2,\n",
        "    cv=10\n",
        ")\n",
        "\n",
        "rscv.fit(no_energy_X, no_energy_y)\n",
        "\n",
        "-rscv.best_score_, rscv.best_params_"
      ],
      "metadata": {
        "colab": {
          "base_uri": "https://localhost:8080/"
        },
        "id": "rhDk6EKmw-9p",
        "outputId": "a7dd847c-6a33-4359-a7e7-3eeb0d76f4ff"
      },
      "execution_count": 21,
      "outputs": [
        {
          "output_type": "execute_result",
          "data": {
            "text/plain": [
              "(281134739.71920955,\n",
              " {'xgbregressor__eta': 0.11563022128002773,\n",
              "  'xgbregressor__max_depth': 6,\n",
              "  'xgbregressor__min_child_weight': 22.73762979511926,\n",
              "  'xgbregressor__n_estimators': 464,\n",
              "  'xgbregressor__reg_alpha': 0.030937244429103943,\n",
              "  'xgbregressor__reg_lambda': 0.04959458876316877})"
            ]
          },
          "metadata": {},
          "execution_count": 21
        }
      ]
    },
    {
      "cell_type": "code",
      "source": [
        "pipeline = make_pipeline(\n",
        "      StandardScaler(),\n",
        "      XGBRegressor()\n",
        "  )\n",
        "-cross_val_score(\n",
        "    pipeline,\n",
        "    X=no_energy_X,\n",
        "    y=no_energy_y_log,\n",
        "    scoring=\"neg_root_mean_squared_error\",\n",
        "    cv=10\n",
        ").mean()"
      ],
      "metadata": {
        "colab": {
          "base_uri": "https://localhost:8080/"
        },
        "id": "8eKFmOxD3uol",
        "outputId": "9dcaf7ba-456a-48c3-a1fc-77f6f643cca0"
      },
      "execution_count": 22,
      "outputs": [
        {
          "output_type": "execute_result",
          "data": {
            "text/plain": [
              "0.3252436278321002"
            ]
          },
          "metadata": {},
          "execution_count": 22
        }
      ]
    },
    {
      "cell_type": "code",
      "source": [
        "params = {\"xgbregressor__eta\":uniform(0.01, 0.2),\n",
        "          \"xgbregressor__n_estimators\":randint(100, 500),\n",
        "          \"xgbregressor__max_depth\":randint(3, 10),\n",
        "          \"xgbregressor__min_child_weight\":uniform(3, 20),\n",
        "          \"xgbregressor__reg_alpha\":uniform(0.01, 0.2),\n",
        "          \"xgbregressor__reg_lambda\":uniform(0.01, 0.2)}\n",
        "\n",
        "rscv = RandomizedSearchCV(\n",
        "    pipeline,\n",
        "    params,\n",
        "    n_iter=100,\n",
        "    scoring=\"neg_root_mean_squared_error\",\n",
        "    n_jobs=2,\n",
        "    cv=10\n",
        ")\n",
        "\n",
        "rscv.fit(no_energy_X, no_energy_y_log)\n",
        "\n",
        "-rscv.best_score_, rscv.best_params_"
      ],
      "metadata": {
        "colab": {
          "base_uri": "https://localhost:8080/"
        },
        "id": "ZZnvxuE63x7W",
        "outputId": "1c67f302-6964-43c3-f916-0b100baa6d79"
      },
      "execution_count": 23,
      "outputs": [
        {
          "output_type": "execute_result",
          "data": {
            "text/plain": [
              "(0.29811815990830337,\n",
              " {'xgbregressor__eta': 0.11747009122897904,\n",
              "  'xgbregressor__max_depth': 3,\n",
              "  'xgbregressor__min_child_weight': 20.698081873344005,\n",
              "  'xgbregressor__n_estimators': 363,\n",
              "  'xgbregressor__reg_alpha': 0.11830779609473506,\n",
              "  'xgbregressor__reg_lambda': 0.17894506209081362})"
            ]
          },
          "metadata": {},
          "execution_count": 23
        }
      ]
    },
    {
      "cell_type": "markdown",
      "source": [
        "## Energy ML"
      ],
      "metadata": {
        "id": "90PcGrGK_C2_"
      }
    },
    {
      "cell_type": "code",
      "source": [
        "energy_X = df_ml_full_processed.iloc[:, :-1]\n",
        "energy_y = df_ml_full_processed.iloc[:, -1]\n",
        "energy_y_log = np.log10(energy_y)"
      ],
      "metadata": {
        "id": "zqQi86Y34NIX"
      },
      "execution_count": 24,
      "outputs": []
    },
    {
      "cell_type": "markdown",
      "source": [
        "### K Neighbors"
      ],
      "metadata": {
        "id": "NLaY9wkCAtDZ"
      }
    },
    {
      "cell_type": "code",
      "source": [
        "scores = []\n",
        "for i in range(1, 201):\n",
        "  pipeline = make_pipeline(\n",
        "      StandardScaler(),\n",
        "      KNeighborsRegressor(n_neighbors=i)\n",
        "  )\n",
        "  scores.append(-cross_val_score(\n",
        "      pipeline,\n",
        "      X=energy_X,\n",
        "      y=energy_y,\n",
        "      scoring=\"neg_root_mean_squared_error\",\n",
        "      cv=10\n",
        "  ).mean())\n",
        "px.scatter(x=[i for i in range(1, 201)], y=scores, \n",
        "           title=\"Test Error for K-Nearest Neighbors Regressor with Energy\",\n",
        "           labels={\"x\":\"Neighbors\", \"y\":\"Test Error\"})"
      ],
      "metadata": {
        "colab": {
          "base_uri": "https://localhost:8080/",
          "height": 542
        },
        "id": "GYM9baZq_EVE",
        "outputId": "93434d3e-06a1-40f1-ba7d-af2fc1981ba1"
      },
      "execution_count": 25,
      "outputs": [
        {
          "output_type": "display_data",
          "data": {
            "text/html": [
              "<html>\n",
              "<head><meta charset=\"utf-8\" /></head>\n",
              "<body>\n",
              "    <div>            <script src=\"https://cdnjs.cloudflare.com/ajax/libs/mathjax/2.7.5/MathJax.js?config=TeX-AMS-MML_SVG\"></script><script type=\"text/javascript\">if (window.MathJax) {MathJax.Hub.Config({SVG: {font: \"STIX-Web\"}});}</script>                <script type=\"text/javascript\">window.PlotlyConfig = {MathJaxConfig: 'local'};</script>\n",
              "        <script src=\"https://cdn.plot.ly/plotly-2.8.3.min.js\"></script>                <div id=\"8ceda794-2603-46ab-bfdc-3d99cc30fbe1\" class=\"plotly-graph-div\" style=\"height:525px; width:100%;\"></div>            <script type=\"text/javascript\">                                    window.PLOTLYENV=window.PLOTLYENV || {};                                    if (document.getElementById(\"8ceda794-2603-46ab-bfdc-3d99cc30fbe1\")) {                    Plotly.newPlot(                        \"8ceda794-2603-46ab-bfdc-3d99cc30fbe1\",                        [{\"hovertemplate\":\"Neighbors=%{x}<br>Test Error=%{y}<extra></extra>\",\"legendgroup\":\"\",\"marker\":{\"color\":\"#636efa\",\"symbol\":\"circle\"},\"mode\":\"markers\",\"name\":\"\",\"orientation\":\"v\",\"showlegend\":false,\"x\":[1,2,3,4,5,6,7,8,9,10,11,12,13,14,15,16,17,18,19,20,21,22,23,24,25,26,27,28,29,30,31,32,33,34,35,36,37,38,39,40,41,42,43,44,45,46,47,48,49,50,51,52,53,54,55,56,57,58,59,60,61,62,63,64,65,66,67,68,69,70,71,72,73,74,75,76,77,78,79,80,81,82,83,84,85,86,87,88,89,90,91,92,93,94,95,96,97,98,99,100,101,102,103,104,105,106,107,108,109,110,111,112,113,114,115,116,117,118,119,120,121,122,123,124,125,126,127,128,129,130,131,132,133,134,135,136,137,138,139,140,141,142,143,144,145,146,147,148,149,150,151,152,153,154,155,156,157,158,159,160,161,162,163,164,165,166,167,168,169,170,171,172,173,174,175,176,177,178,179,180,181,182,183,184,185,186,187,188,189,190,191,192,193,194,195,196,197,198,199,200],\"xaxis\":\"x\",\"y\":[566035259.8981352,559435801.0981984,558958326.1215628,544281639.0249292,553424383.6595742,550605624.0067017,552917375.6286341,560555213.44478,568339998.0983902,574733801.4234453,573780838.8826779,563584541.2062432,556462180.6650923,542280042.7347294,537680331.6446766,526463189.2042079,521101410.8212818,515759662.1264119,507912856.940059,500140455.98085517,493406565.6729673,488188980.7126769,489240324.59966123,485180123.555672,480477591.7054719,477331054.4118336,475506183.9919378,473298594.02374107,470616153.739899,469431128.36448365,468191499.4042977,464972376.56979525,461974893.7990575,460208915.7696107,458848352.0750967,458118596.9210874,456130975.4292525,454572586.3980343,452342262.4478485,450832147.63062227,450086601.5971902,449035287.1601512,447941172.9536602,447238006.8131355,445877295.6220382,446352381.07728875,445635952.46722496,444976218.03173864,445776678.78131115,445004784.93190575,444444745.7889067,444056804.24069536,443584044.21699953,443666202.7819748,443826833.86981183,444676625.498464,445107059.9030796,444572276.70758533,446015488.95078886,445738835.8626021,445576516.81511915,445663144.9432579,445772526.8490847,445887243.4052795,446383839.7407479,446778527.1754335,447135492.1849474,447876994.6570803,448449003.0679635,448726741.91963625,449801736.2956996,450401365.5653545,451053006.25958526,451733438.39454985,452418777.71440613,453124996.22049123,453500091.68018425,454134938.7652098,454391448.9004118,454629088.7632772,455451427.1186677,456097352.3220526,456860508.86076975,457572214.5212151,457952673.6491186,458522494.4487692,458995781.2599824,459764921.543169,460466881.7087598,461026588.5500008,461628415.2673769,462284079.41884357,463035481.1845269,463628299.5137652,464310873.16997147,464925091.46726453,465383043.14982396,465818881.8093707,466495168.2469408,467140339.1805271,467943736.1292799,468661891.4473008,469229309.34772855,469902767.14522344,470466823.10353184,470975124.58646375,471791176.91089344,472328561.20031106,472880717.2909077,473363914.14353704,473663332.4407938,474177318.94608843,474378768.565457,474923936.48967505,475782392.3650548,476271223.72057503,476556276.93927366,477005985.4731685,477405789.971292,477666062.09683704,478160157.83648217,478629275.8457872,479180813.83782816,479469308.78376055,479764736.4801278,480176141.414478,480575409.8116714,481038418.9630931,481482690.1400031,482188852.6804568,482678524.15843517,483181995.5128151,483692710.0062479,484240161.1506432,484681264.27446973,485166997.56360006,485151402.3382579,485549396.47057617,485984942.65473443,486429893.1307551,486844249.8352029,487341830.8651889,487693753.652909,488113445.5389148,488323557.4898087,488722056.62384194,489062997.55522615,489449097.71355724,489791082.6179506,490094433.5244338,490318844.30627406,490855002.9451491,491197784.7709204,491509679.7784314,491862500.4222783,492297515.83970624,492615521.79773283,493047873.4634347,493380306.7070967,493752007.4792038,494070728.2095316,494430701.1424534,494659200.97702724,494937852.22042,495243905.02743995,495572102.97470236,495826684.53116095,496148730.71666145,496314652.3640927,496566839.57561123,496850186.059196,497157669.2117214,497483882.35883605,497717090.4328004,497933376.5697072,498117975.3904106,498262446.96990126,498475780.7145983,498477808.51894844,498743380.91835994,498992631.89032423,499232308.6049856,499447714.4027457,499660750.13827837,499806053.6339353,500074839.5007294,500316531.10381556,500484414.21691275,500571920.7880058,500809799.4242736,501018818.42261755,501188207.6259581,501361564.4365795,501494535.0945505,501593044.80622625,501820713.1752926,502035962.66005594,502270256.60959977,502484390.9884759,502583220.6273443],\"yaxis\":\"y\",\"type\":\"scatter\"}],                        {\"template\":{\"data\":{\"bar\":[{\"error_x\":{\"color\":\"#2a3f5f\"},\"error_y\":{\"color\":\"#2a3f5f\"},\"marker\":{\"line\":{\"color\":\"#E5ECF6\",\"width\":0.5},\"pattern\":{\"fillmode\":\"overlay\",\"size\":10,\"solidity\":0.2}},\"type\":\"bar\"}],\"barpolar\":[{\"marker\":{\"line\":{\"color\":\"#E5ECF6\",\"width\":0.5},\"pattern\":{\"fillmode\":\"overlay\",\"size\":10,\"solidity\":0.2}},\"type\":\"barpolar\"}],\"carpet\":[{\"aaxis\":{\"endlinecolor\":\"#2a3f5f\",\"gridcolor\":\"white\",\"linecolor\":\"white\",\"minorgridcolor\":\"white\",\"startlinecolor\":\"#2a3f5f\"},\"baxis\":{\"endlinecolor\":\"#2a3f5f\",\"gridcolor\":\"white\",\"linecolor\":\"white\",\"minorgridcolor\":\"white\",\"startlinecolor\":\"#2a3f5f\"},\"type\":\"carpet\"}],\"choropleth\":[{\"colorbar\":{\"outlinewidth\":0,\"ticks\":\"\"},\"type\":\"choropleth\"}],\"contour\":[{\"colorbar\":{\"outlinewidth\":0,\"ticks\":\"\"},\"colorscale\":[[0.0,\"#0d0887\"],[0.1111111111111111,\"#46039f\"],[0.2222222222222222,\"#7201a8\"],[0.3333333333333333,\"#9c179e\"],[0.4444444444444444,\"#bd3786\"],[0.5555555555555556,\"#d8576b\"],[0.6666666666666666,\"#ed7953\"],[0.7777777777777778,\"#fb9f3a\"],[0.8888888888888888,\"#fdca26\"],[1.0,\"#f0f921\"]],\"type\":\"contour\"}],\"contourcarpet\":[{\"colorbar\":{\"outlinewidth\":0,\"ticks\":\"\"},\"type\":\"contourcarpet\"}],\"heatmap\":[{\"colorbar\":{\"outlinewidth\":0,\"ticks\":\"\"},\"colorscale\":[[0.0,\"#0d0887\"],[0.1111111111111111,\"#46039f\"],[0.2222222222222222,\"#7201a8\"],[0.3333333333333333,\"#9c179e\"],[0.4444444444444444,\"#bd3786\"],[0.5555555555555556,\"#d8576b\"],[0.6666666666666666,\"#ed7953\"],[0.7777777777777778,\"#fb9f3a\"],[0.8888888888888888,\"#fdca26\"],[1.0,\"#f0f921\"]],\"type\":\"heatmap\"}],\"heatmapgl\":[{\"colorbar\":{\"outlinewidth\":0,\"ticks\":\"\"},\"colorscale\":[[0.0,\"#0d0887\"],[0.1111111111111111,\"#46039f\"],[0.2222222222222222,\"#7201a8\"],[0.3333333333333333,\"#9c179e\"],[0.4444444444444444,\"#bd3786\"],[0.5555555555555556,\"#d8576b\"],[0.6666666666666666,\"#ed7953\"],[0.7777777777777778,\"#fb9f3a\"],[0.8888888888888888,\"#fdca26\"],[1.0,\"#f0f921\"]],\"type\":\"heatmapgl\"}],\"histogram\":[{\"marker\":{\"pattern\":{\"fillmode\":\"overlay\",\"size\":10,\"solidity\":0.2}},\"type\":\"histogram\"}],\"histogram2d\":[{\"colorbar\":{\"outlinewidth\":0,\"ticks\":\"\"},\"colorscale\":[[0.0,\"#0d0887\"],[0.1111111111111111,\"#46039f\"],[0.2222222222222222,\"#7201a8\"],[0.3333333333333333,\"#9c179e\"],[0.4444444444444444,\"#bd3786\"],[0.5555555555555556,\"#d8576b\"],[0.6666666666666666,\"#ed7953\"],[0.7777777777777778,\"#fb9f3a\"],[0.8888888888888888,\"#fdca26\"],[1.0,\"#f0f921\"]],\"type\":\"histogram2d\"}],\"histogram2dcontour\":[{\"colorbar\":{\"outlinewidth\":0,\"ticks\":\"\"},\"colorscale\":[[0.0,\"#0d0887\"],[0.1111111111111111,\"#46039f\"],[0.2222222222222222,\"#7201a8\"],[0.3333333333333333,\"#9c179e\"],[0.4444444444444444,\"#bd3786\"],[0.5555555555555556,\"#d8576b\"],[0.6666666666666666,\"#ed7953\"],[0.7777777777777778,\"#fb9f3a\"],[0.8888888888888888,\"#fdca26\"],[1.0,\"#f0f921\"]],\"type\":\"histogram2dcontour\"}],\"mesh3d\":[{\"colorbar\":{\"outlinewidth\":0,\"ticks\":\"\"},\"type\":\"mesh3d\"}],\"parcoords\":[{\"line\":{\"colorbar\":{\"outlinewidth\":0,\"ticks\":\"\"}},\"type\":\"parcoords\"}],\"pie\":[{\"automargin\":true,\"type\":\"pie\"}],\"scatter\":[{\"marker\":{\"colorbar\":{\"outlinewidth\":0,\"ticks\":\"\"}},\"type\":\"scatter\"}],\"scatter3d\":[{\"line\":{\"colorbar\":{\"outlinewidth\":0,\"ticks\":\"\"}},\"marker\":{\"colorbar\":{\"outlinewidth\":0,\"ticks\":\"\"}},\"type\":\"scatter3d\"}],\"scattercarpet\":[{\"marker\":{\"colorbar\":{\"outlinewidth\":0,\"ticks\":\"\"}},\"type\":\"scattercarpet\"}],\"scattergeo\":[{\"marker\":{\"colorbar\":{\"outlinewidth\":0,\"ticks\":\"\"}},\"type\":\"scattergeo\"}],\"scattergl\":[{\"marker\":{\"colorbar\":{\"outlinewidth\":0,\"ticks\":\"\"}},\"type\":\"scattergl\"}],\"scattermapbox\":[{\"marker\":{\"colorbar\":{\"outlinewidth\":0,\"ticks\":\"\"}},\"type\":\"scattermapbox\"}],\"scatterpolar\":[{\"marker\":{\"colorbar\":{\"outlinewidth\":0,\"ticks\":\"\"}},\"type\":\"scatterpolar\"}],\"scatterpolargl\":[{\"marker\":{\"colorbar\":{\"outlinewidth\":0,\"ticks\":\"\"}},\"type\":\"scatterpolargl\"}],\"scatterternary\":[{\"marker\":{\"colorbar\":{\"outlinewidth\":0,\"ticks\":\"\"}},\"type\":\"scatterternary\"}],\"surface\":[{\"colorbar\":{\"outlinewidth\":0,\"ticks\":\"\"},\"colorscale\":[[0.0,\"#0d0887\"],[0.1111111111111111,\"#46039f\"],[0.2222222222222222,\"#7201a8\"],[0.3333333333333333,\"#9c179e\"],[0.4444444444444444,\"#bd3786\"],[0.5555555555555556,\"#d8576b\"],[0.6666666666666666,\"#ed7953\"],[0.7777777777777778,\"#fb9f3a\"],[0.8888888888888888,\"#fdca26\"],[1.0,\"#f0f921\"]],\"type\":\"surface\"}],\"table\":[{\"cells\":{\"fill\":{\"color\":\"#EBF0F8\"},\"line\":{\"color\":\"white\"}},\"header\":{\"fill\":{\"color\":\"#C8D4E3\"},\"line\":{\"color\":\"white\"}},\"type\":\"table\"}]},\"layout\":{\"annotationdefaults\":{\"arrowcolor\":\"#2a3f5f\",\"arrowhead\":0,\"arrowwidth\":1},\"autotypenumbers\":\"strict\",\"coloraxis\":{\"colorbar\":{\"outlinewidth\":0,\"ticks\":\"\"}},\"colorscale\":{\"diverging\":[[0,\"#8e0152\"],[0.1,\"#c51b7d\"],[0.2,\"#de77ae\"],[0.3,\"#f1b6da\"],[0.4,\"#fde0ef\"],[0.5,\"#f7f7f7\"],[0.6,\"#e6f5d0\"],[0.7,\"#b8e186\"],[0.8,\"#7fbc41\"],[0.9,\"#4d9221\"],[1,\"#276419\"]],\"sequential\":[[0.0,\"#0d0887\"],[0.1111111111111111,\"#46039f\"],[0.2222222222222222,\"#7201a8\"],[0.3333333333333333,\"#9c179e\"],[0.4444444444444444,\"#bd3786\"],[0.5555555555555556,\"#d8576b\"],[0.6666666666666666,\"#ed7953\"],[0.7777777777777778,\"#fb9f3a\"],[0.8888888888888888,\"#fdca26\"],[1.0,\"#f0f921\"]],\"sequentialminus\":[[0.0,\"#0d0887\"],[0.1111111111111111,\"#46039f\"],[0.2222222222222222,\"#7201a8\"],[0.3333333333333333,\"#9c179e\"],[0.4444444444444444,\"#bd3786\"],[0.5555555555555556,\"#d8576b\"],[0.6666666666666666,\"#ed7953\"],[0.7777777777777778,\"#fb9f3a\"],[0.8888888888888888,\"#fdca26\"],[1.0,\"#f0f921\"]]},\"colorway\":[\"#636efa\",\"#EF553B\",\"#00cc96\",\"#ab63fa\",\"#FFA15A\",\"#19d3f3\",\"#FF6692\",\"#B6E880\",\"#FF97FF\",\"#FECB52\"],\"font\":{\"color\":\"#2a3f5f\"},\"geo\":{\"bgcolor\":\"white\",\"lakecolor\":\"white\",\"landcolor\":\"#E5ECF6\",\"showlakes\":true,\"showland\":true,\"subunitcolor\":\"white\"},\"hoverlabel\":{\"align\":\"left\"},\"hovermode\":\"closest\",\"mapbox\":{\"style\":\"light\"},\"paper_bgcolor\":\"white\",\"plot_bgcolor\":\"#E5ECF6\",\"polar\":{\"angularaxis\":{\"gridcolor\":\"white\",\"linecolor\":\"white\",\"ticks\":\"\"},\"bgcolor\":\"#E5ECF6\",\"radialaxis\":{\"gridcolor\":\"white\",\"linecolor\":\"white\",\"ticks\":\"\"}},\"scene\":{\"xaxis\":{\"backgroundcolor\":\"#E5ECF6\",\"gridcolor\":\"white\",\"gridwidth\":2,\"linecolor\":\"white\",\"showbackground\":true,\"ticks\":\"\",\"zerolinecolor\":\"white\"},\"yaxis\":{\"backgroundcolor\":\"#E5ECF6\",\"gridcolor\":\"white\",\"gridwidth\":2,\"linecolor\":\"white\",\"showbackground\":true,\"ticks\":\"\",\"zerolinecolor\":\"white\"},\"zaxis\":{\"backgroundcolor\":\"#E5ECF6\",\"gridcolor\":\"white\",\"gridwidth\":2,\"linecolor\":\"white\",\"showbackground\":true,\"ticks\":\"\",\"zerolinecolor\":\"white\"}},\"shapedefaults\":{\"line\":{\"color\":\"#2a3f5f\"}},\"ternary\":{\"aaxis\":{\"gridcolor\":\"white\",\"linecolor\":\"white\",\"ticks\":\"\"},\"baxis\":{\"gridcolor\":\"white\",\"linecolor\":\"white\",\"ticks\":\"\"},\"bgcolor\":\"#E5ECF6\",\"caxis\":{\"gridcolor\":\"white\",\"linecolor\":\"white\",\"ticks\":\"\"}},\"title\":{\"x\":0.05},\"xaxis\":{\"automargin\":true,\"gridcolor\":\"white\",\"linecolor\":\"white\",\"ticks\":\"\",\"title\":{\"standoff\":15},\"zerolinecolor\":\"white\",\"zerolinewidth\":2},\"yaxis\":{\"automargin\":true,\"gridcolor\":\"white\",\"linecolor\":\"white\",\"ticks\":\"\",\"title\":{\"standoff\":15},\"zerolinecolor\":\"white\",\"zerolinewidth\":2}}},\"xaxis\":{\"anchor\":\"y\",\"domain\":[0.0,1.0],\"title\":{\"text\":\"Neighbors\"}},\"yaxis\":{\"anchor\":\"x\",\"domain\":[0.0,1.0],\"title\":{\"text\":\"Test Error\"}},\"legend\":{\"tracegroupgap\":0},\"title\":{\"text\":\"Test Error for K-Nearest Neighbors Regressor with Energy\"}},                        {\"responsive\": true}                    ).then(function(){\n",
              "                            \n",
              "var gd = document.getElementById('8ceda794-2603-46ab-bfdc-3d99cc30fbe1');\n",
              "var x = new MutationObserver(function (mutations, observer) {{\n",
              "        var display = window.getComputedStyle(gd).display;\n",
              "        if (!display || display === 'none') {{\n",
              "            console.log([gd, 'removed!']);\n",
              "            Plotly.purge(gd);\n",
              "            observer.disconnect();\n",
              "        }}\n",
              "}});\n",
              "\n",
              "// Listen for the removal of the full notebook cells\n",
              "var notebookContainer = gd.closest('#notebook-container');\n",
              "if (notebookContainer) {{\n",
              "    x.observe(notebookContainer, {childList: true});\n",
              "}}\n",
              "\n",
              "// Listen for the clearing of the current output cell\n",
              "var outputEl = gd.closest('.output');\n",
              "if (outputEl) {{\n",
              "    x.observe(outputEl, {childList: true});\n",
              "}}\n",
              "\n",
              "                        })                };                            </script>        </div>\n",
              "</body>\n",
              "</html>"
            ]
          },
          "metadata": {}
        }
      ]
    },
    {
      "cell_type": "markdown",
      "source": [
        "Test error is lowest for 53 neighbors"
      ],
      "metadata": {
        "id": "ksADcgvK_nKn"
      }
    },
    {
      "cell_type": "code",
      "source": [
        "scores = []\n",
        "for i in range(1, 201):\n",
        "  pipeline = make_pipeline(\n",
        "      StandardScaler(),\n",
        "      KNeighborsRegressor(n_neighbors=i)\n",
        "  )\n",
        "  scores.append(-cross_val_score(\n",
        "      pipeline,\n",
        "      X=energy_X,\n",
        "      y=energy_y_log,\n",
        "      scoring=\"neg_root_mean_squared_error\",\n",
        "      cv=10\n",
        "  ).mean())\n",
        "px.scatter(x=[i for i in range(1, 201)], y=scores, \n",
        "           title=\"Test Error for K-Nearest Neighbors Regressor with Energy\",\n",
        "           labels={\"x\":\"Neighbors\", \"y\":\"Log Test Error\"})"
      ],
      "metadata": {
        "colab": {
          "base_uri": "https://localhost:8080/",
          "height": 542
        },
        "id": "-S6i9lbxRxRB",
        "outputId": "629f1300-219a-4df5-a36c-6d2b410ef736"
      },
      "execution_count": 26,
      "outputs": [
        {
          "output_type": "display_data",
          "data": {
            "text/html": [
              "<html>\n",
              "<head><meta charset=\"utf-8\" /></head>\n",
              "<body>\n",
              "    <div>            <script src=\"https://cdnjs.cloudflare.com/ajax/libs/mathjax/2.7.5/MathJax.js?config=TeX-AMS-MML_SVG\"></script><script type=\"text/javascript\">if (window.MathJax) {MathJax.Hub.Config({SVG: {font: \"STIX-Web\"}});}</script>                <script type=\"text/javascript\">window.PlotlyConfig = {MathJaxConfig: 'local'};</script>\n",
              "        <script src=\"https://cdn.plot.ly/plotly-2.8.3.min.js\"></script>                <div id=\"4f1ea576-1ded-4c58-9107-d170c11cb704\" class=\"plotly-graph-div\" style=\"height:525px; width:100%;\"></div>            <script type=\"text/javascript\">                                    window.PLOTLYENV=window.PLOTLYENV || {};                                    if (document.getElementById(\"4f1ea576-1ded-4c58-9107-d170c11cb704\")) {                    Plotly.newPlot(                        \"4f1ea576-1ded-4c58-9107-d170c11cb704\",                        [{\"hovertemplate\":\"Neighbors=%{x}<br>Log Test Error=%{y}<extra></extra>\",\"legendgroup\":\"\",\"marker\":{\"color\":\"#636efa\",\"symbol\":\"circle\"},\"mode\":\"markers\",\"name\":\"\",\"orientation\":\"v\",\"showlegend\":false,\"x\":[1,2,3,4,5,6,7,8,9,10,11,12,13,14,15,16,17,18,19,20,21,22,23,24,25,26,27,28,29,30,31,32,33,34,35,36,37,38,39,40,41,42,43,44,45,46,47,48,49,50,51,52,53,54,55,56,57,58,59,60,61,62,63,64,65,66,67,68,69,70,71,72,73,74,75,76,77,78,79,80,81,82,83,84,85,86,87,88,89,90,91,92,93,94,95,96,97,98,99,100,101,102,103,104,105,106,107,108,109,110,111,112,113,114,115,116,117,118,119,120,121,122,123,124,125,126,127,128,129,130,131,132,133,134,135,136,137,138,139,140,141,142,143,144,145,146,147,148,149,150,151,152,153,154,155,156,157,158,159,160,161,162,163,164,165,166,167,168,169,170,171,172,173,174,175,176,177,178,179,180,181,182,183,184,185,186,187,188,189,190,191,192,193,194,195,196,197,198,199,200],\"xaxis\":\"x\",\"y\":[0.5249758776959595,0.501479026239412,0.49422986885725784,0.48665473187933134,0.48260671324830173,0.47321111168366004,0.4661375302455645,0.46138717122177175,0.4570315466536813,0.45340582363961557,0.4480776281954042,0.444767468977236,0.4407621032217973,0.43858590815686477,0.43600435871643006,0.43435635681075474,0.433116622444463,0.4309686078599674,0.42924290408256616,0.42791542146220074,0.4263922801883234,0.4253117448153321,0.4239900826835937,0.4231455968977144,0.42244357869282706,0.42196307835992347,0.4204750464105148,0.41939878281469645,0.41803505446264977,0.41686862007514536,0.4169697032276848,0.416924466739951,0.4163724523019817,0.41555531561998726,0.4150680467311044,0.4144504595305315,0.41446210203263245,0.41386605193109427,0.4129298968016527,0.412066536531538,0.4118998750662536,0.41195129594118846,0.4116128788489239,0.41154761826595465,0.4114938810059613,0.41207635296096334,0.4117716542772724,0.4121079023380245,0.4123834127142521,0.41268722110407763,0.41293157944769876,0.4132290916704767,0.4137730731511108,0.414463281814232,0.41448908581373567,0.41430797773055017,0.41484251140924877,0.4149188878224961,0.41529479712060463,0.4154838178642802,0.4160412839399088,0.41645364738613233,0.41671071759021583,0.41713693048296285,0.41745260558712927,0.41809305266452956,0.4186286999701386,0.41965670324835136,0.4203310124578989,0.42085600290353253,0.42153974636708746,0.4220660863121088,0.4226854382010513,0.42337749826553217,0.4240527804849357,0.4249825038137727,0.4252739624007897,0.42600364399176793,0.4266934711792157,0.42703648750344436,0.42781517327302643,0.4284960493358755,0.4293278647951285,0.43013833430778103,0.43078425814873356,0.4314773188835047,0.4321925445876847,0.432862620864119,0.43360272437931685,0.4343386717404565,0.434844915078721,0.4355507146213749,0.436234005810734,0.43676657315754647,0.43737057579840694,0.43815723668470713,0.4386361963214821,0.43925539525308077,0.43987901300919585,0.440562433281617,0.44132839991590955,0.4419348662055631,0.442359906674911,0.443030971072954,0.4435114462085538,0.4438316016330142,0.44443404293130157,0.44494451681657204,0.44540170138209534,0.44612678369533143,0.446681766554048,0.44707337565832067,0.4475273815326736,0.4481510263212026,0.4488153327332274,0.44942371794665803,0.44990495991732243,0.4503674274344031,0.45092948519026466,0.4514700864718617,0.45197278719093814,0.45245282171098494,0.4530627802973285,0.45353643363255924,0.45383404464586724,0.454339821703139,0.45481492051415195,0.4552570852431329,0.45588650492118965,0.45627109940136634,0.45688398564082905,0.4573615828182612,0.45790298404199226,0.45840753009329793,0.458915056343431,0.4593924043708463,0.4598311334795241,0.46043811689829306,0.4608279710161014,0.4614211171043151,0.46194919919971156,0.46253203378063235,0.4631070754527822,0.4635900744237267,0.46410656026633956,0.46461417790175086,0.464949992980831,0.46549186598938297,0.4659301439136877,0.4664974655398413,0.46699495054210394,0.46744322613965883,0.46785195952937747,0.4683162905204929,0.46865884195504764,0.46924311430791626,0.4698262770128855,0.4703044324355149,0.47070898423607516,0.47128333650969234,0.4717287446467814,0.47216479816925866,0.47259804160692437,0.4729591024752778,0.4734219900676342,0.4738707745111618,0.47428598503064767,0.47472284049432145,0.4750131202818956,0.47529696633512425,0.4756287729050125,0.4759760568461,0.4764680995974594,0.4768956841799083,0.4771475096535845,0.4774980161536716,0.4778124435694118,0.4780048534693556,0.47832478461854366,0.47866449728479543,0.47902031486897984,0.4793291743575689,0.47961125826673917,0.4799479078843441,0.48037423496653825,0.48063645832625596,0.4809720673361693,0.4812616377657717,0.4815690183126051,0.4818888808061699,0.4821668345498094,0.4825453089663938,0.48282582559439113,0.4831008278499992,0.48339416442682365,0.4837559586001685,0.48398656725956013,0.4842889611709319,0.4846568938992467,0.48489376187300054],\"yaxis\":\"y\",\"type\":\"scatter\"}],                        {\"template\":{\"data\":{\"bar\":[{\"error_x\":{\"color\":\"#2a3f5f\"},\"error_y\":{\"color\":\"#2a3f5f\"},\"marker\":{\"line\":{\"color\":\"#E5ECF6\",\"width\":0.5},\"pattern\":{\"fillmode\":\"overlay\",\"size\":10,\"solidity\":0.2}},\"type\":\"bar\"}],\"barpolar\":[{\"marker\":{\"line\":{\"color\":\"#E5ECF6\",\"width\":0.5},\"pattern\":{\"fillmode\":\"overlay\",\"size\":10,\"solidity\":0.2}},\"type\":\"barpolar\"}],\"carpet\":[{\"aaxis\":{\"endlinecolor\":\"#2a3f5f\",\"gridcolor\":\"white\",\"linecolor\":\"white\",\"minorgridcolor\":\"white\",\"startlinecolor\":\"#2a3f5f\"},\"baxis\":{\"endlinecolor\":\"#2a3f5f\",\"gridcolor\":\"white\",\"linecolor\":\"white\",\"minorgridcolor\":\"white\",\"startlinecolor\":\"#2a3f5f\"},\"type\":\"carpet\"}],\"choropleth\":[{\"colorbar\":{\"outlinewidth\":0,\"ticks\":\"\"},\"type\":\"choropleth\"}],\"contour\":[{\"colorbar\":{\"outlinewidth\":0,\"ticks\":\"\"},\"colorscale\":[[0.0,\"#0d0887\"],[0.1111111111111111,\"#46039f\"],[0.2222222222222222,\"#7201a8\"],[0.3333333333333333,\"#9c179e\"],[0.4444444444444444,\"#bd3786\"],[0.5555555555555556,\"#d8576b\"],[0.6666666666666666,\"#ed7953\"],[0.7777777777777778,\"#fb9f3a\"],[0.8888888888888888,\"#fdca26\"],[1.0,\"#f0f921\"]],\"type\":\"contour\"}],\"contourcarpet\":[{\"colorbar\":{\"outlinewidth\":0,\"ticks\":\"\"},\"type\":\"contourcarpet\"}],\"heatmap\":[{\"colorbar\":{\"outlinewidth\":0,\"ticks\":\"\"},\"colorscale\":[[0.0,\"#0d0887\"],[0.1111111111111111,\"#46039f\"],[0.2222222222222222,\"#7201a8\"],[0.3333333333333333,\"#9c179e\"],[0.4444444444444444,\"#bd3786\"],[0.5555555555555556,\"#d8576b\"],[0.6666666666666666,\"#ed7953\"],[0.7777777777777778,\"#fb9f3a\"],[0.8888888888888888,\"#fdca26\"],[1.0,\"#f0f921\"]],\"type\":\"heatmap\"}],\"heatmapgl\":[{\"colorbar\":{\"outlinewidth\":0,\"ticks\":\"\"},\"colorscale\":[[0.0,\"#0d0887\"],[0.1111111111111111,\"#46039f\"],[0.2222222222222222,\"#7201a8\"],[0.3333333333333333,\"#9c179e\"],[0.4444444444444444,\"#bd3786\"],[0.5555555555555556,\"#d8576b\"],[0.6666666666666666,\"#ed7953\"],[0.7777777777777778,\"#fb9f3a\"],[0.8888888888888888,\"#fdca26\"],[1.0,\"#f0f921\"]],\"type\":\"heatmapgl\"}],\"histogram\":[{\"marker\":{\"pattern\":{\"fillmode\":\"overlay\",\"size\":10,\"solidity\":0.2}},\"type\":\"histogram\"}],\"histogram2d\":[{\"colorbar\":{\"outlinewidth\":0,\"ticks\":\"\"},\"colorscale\":[[0.0,\"#0d0887\"],[0.1111111111111111,\"#46039f\"],[0.2222222222222222,\"#7201a8\"],[0.3333333333333333,\"#9c179e\"],[0.4444444444444444,\"#bd3786\"],[0.5555555555555556,\"#d8576b\"],[0.6666666666666666,\"#ed7953\"],[0.7777777777777778,\"#fb9f3a\"],[0.8888888888888888,\"#fdca26\"],[1.0,\"#f0f921\"]],\"type\":\"histogram2d\"}],\"histogram2dcontour\":[{\"colorbar\":{\"outlinewidth\":0,\"ticks\":\"\"},\"colorscale\":[[0.0,\"#0d0887\"],[0.1111111111111111,\"#46039f\"],[0.2222222222222222,\"#7201a8\"],[0.3333333333333333,\"#9c179e\"],[0.4444444444444444,\"#bd3786\"],[0.5555555555555556,\"#d8576b\"],[0.6666666666666666,\"#ed7953\"],[0.7777777777777778,\"#fb9f3a\"],[0.8888888888888888,\"#fdca26\"],[1.0,\"#f0f921\"]],\"type\":\"histogram2dcontour\"}],\"mesh3d\":[{\"colorbar\":{\"outlinewidth\":0,\"ticks\":\"\"},\"type\":\"mesh3d\"}],\"parcoords\":[{\"line\":{\"colorbar\":{\"outlinewidth\":0,\"ticks\":\"\"}},\"type\":\"parcoords\"}],\"pie\":[{\"automargin\":true,\"type\":\"pie\"}],\"scatter\":[{\"marker\":{\"colorbar\":{\"outlinewidth\":0,\"ticks\":\"\"}},\"type\":\"scatter\"}],\"scatter3d\":[{\"line\":{\"colorbar\":{\"outlinewidth\":0,\"ticks\":\"\"}},\"marker\":{\"colorbar\":{\"outlinewidth\":0,\"ticks\":\"\"}},\"type\":\"scatter3d\"}],\"scattercarpet\":[{\"marker\":{\"colorbar\":{\"outlinewidth\":0,\"ticks\":\"\"}},\"type\":\"scattercarpet\"}],\"scattergeo\":[{\"marker\":{\"colorbar\":{\"outlinewidth\":0,\"ticks\":\"\"}},\"type\":\"scattergeo\"}],\"scattergl\":[{\"marker\":{\"colorbar\":{\"outlinewidth\":0,\"ticks\":\"\"}},\"type\":\"scattergl\"}],\"scattermapbox\":[{\"marker\":{\"colorbar\":{\"outlinewidth\":0,\"ticks\":\"\"}},\"type\":\"scattermapbox\"}],\"scatterpolar\":[{\"marker\":{\"colorbar\":{\"outlinewidth\":0,\"ticks\":\"\"}},\"type\":\"scatterpolar\"}],\"scatterpolargl\":[{\"marker\":{\"colorbar\":{\"outlinewidth\":0,\"ticks\":\"\"}},\"type\":\"scatterpolargl\"}],\"scatterternary\":[{\"marker\":{\"colorbar\":{\"outlinewidth\":0,\"ticks\":\"\"}},\"type\":\"scatterternary\"}],\"surface\":[{\"colorbar\":{\"outlinewidth\":0,\"ticks\":\"\"},\"colorscale\":[[0.0,\"#0d0887\"],[0.1111111111111111,\"#46039f\"],[0.2222222222222222,\"#7201a8\"],[0.3333333333333333,\"#9c179e\"],[0.4444444444444444,\"#bd3786\"],[0.5555555555555556,\"#d8576b\"],[0.6666666666666666,\"#ed7953\"],[0.7777777777777778,\"#fb9f3a\"],[0.8888888888888888,\"#fdca26\"],[1.0,\"#f0f921\"]],\"type\":\"surface\"}],\"table\":[{\"cells\":{\"fill\":{\"color\":\"#EBF0F8\"},\"line\":{\"color\":\"white\"}},\"header\":{\"fill\":{\"color\":\"#C8D4E3\"},\"line\":{\"color\":\"white\"}},\"type\":\"table\"}]},\"layout\":{\"annotationdefaults\":{\"arrowcolor\":\"#2a3f5f\",\"arrowhead\":0,\"arrowwidth\":1},\"autotypenumbers\":\"strict\",\"coloraxis\":{\"colorbar\":{\"outlinewidth\":0,\"ticks\":\"\"}},\"colorscale\":{\"diverging\":[[0,\"#8e0152\"],[0.1,\"#c51b7d\"],[0.2,\"#de77ae\"],[0.3,\"#f1b6da\"],[0.4,\"#fde0ef\"],[0.5,\"#f7f7f7\"],[0.6,\"#e6f5d0\"],[0.7,\"#b8e186\"],[0.8,\"#7fbc41\"],[0.9,\"#4d9221\"],[1,\"#276419\"]],\"sequential\":[[0.0,\"#0d0887\"],[0.1111111111111111,\"#46039f\"],[0.2222222222222222,\"#7201a8\"],[0.3333333333333333,\"#9c179e\"],[0.4444444444444444,\"#bd3786\"],[0.5555555555555556,\"#d8576b\"],[0.6666666666666666,\"#ed7953\"],[0.7777777777777778,\"#fb9f3a\"],[0.8888888888888888,\"#fdca26\"],[1.0,\"#f0f921\"]],\"sequentialminus\":[[0.0,\"#0d0887\"],[0.1111111111111111,\"#46039f\"],[0.2222222222222222,\"#7201a8\"],[0.3333333333333333,\"#9c179e\"],[0.4444444444444444,\"#bd3786\"],[0.5555555555555556,\"#d8576b\"],[0.6666666666666666,\"#ed7953\"],[0.7777777777777778,\"#fb9f3a\"],[0.8888888888888888,\"#fdca26\"],[1.0,\"#f0f921\"]]},\"colorway\":[\"#636efa\",\"#EF553B\",\"#00cc96\",\"#ab63fa\",\"#FFA15A\",\"#19d3f3\",\"#FF6692\",\"#B6E880\",\"#FF97FF\",\"#FECB52\"],\"font\":{\"color\":\"#2a3f5f\"},\"geo\":{\"bgcolor\":\"white\",\"lakecolor\":\"white\",\"landcolor\":\"#E5ECF6\",\"showlakes\":true,\"showland\":true,\"subunitcolor\":\"white\"},\"hoverlabel\":{\"align\":\"left\"},\"hovermode\":\"closest\",\"mapbox\":{\"style\":\"light\"},\"paper_bgcolor\":\"white\",\"plot_bgcolor\":\"#E5ECF6\",\"polar\":{\"angularaxis\":{\"gridcolor\":\"white\",\"linecolor\":\"white\",\"ticks\":\"\"},\"bgcolor\":\"#E5ECF6\",\"radialaxis\":{\"gridcolor\":\"white\",\"linecolor\":\"white\",\"ticks\":\"\"}},\"scene\":{\"xaxis\":{\"backgroundcolor\":\"#E5ECF6\",\"gridcolor\":\"white\",\"gridwidth\":2,\"linecolor\":\"white\",\"showbackground\":true,\"ticks\":\"\",\"zerolinecolor\":\"white\"},\"yaxis\":{\"backgroundcolor\":\"#E5ECF6\",\"gridcolor\":\"white\",\"gridwidth\":2,\"linecolor\":\"white\",\"showbackground\":true,\"ticks\":\"\",\"zerolinecolor\":\"white\"},\"zaxis\":{\"backgroundcolor\":\"#E5ECF6\",\"gridcolor\":\"white\",\"gridwidth\":2,\"linecolor\":\"white\",\"showbackground\":true,\"ticks\":\"\",\"zerolinecolor\":\"white\"}},\"shapedefaults\":{\"line\":{\"color\":\"#2a3f5f\"}},\"ternary\":{\"aaxis\":{\"gridcolor\":\"white\",\"linecolor\":\"white\",\"ticks\":\"\"},\"baxis\":{\"gridcolor\":\"white\",\"linecolor\":\"white\",\"ticks\":\"\"},\"bgcolor\":\"#E5ECF6\",\"caxis\":{\"gridcolor\":\"white\",\"linecolor\":\"white\",\"ticks\":\"\"}},\"title\":{\"x\":0.05},\"xaxis\":{\"automargin\":true,\"gridcolor\":\"white\",\"linecolor\":\"white\",\"ticks\":\"\",\"title\":{\"standoff\":15},\"zerolinecolor\":\"white\",\"zerolinewidth\":2},\"yaxis\":{\"automargin\":true,\"gridcolor\":\"white\",\"linecolor\":\"white\",\"ticks\":\"\",\"title\":{\"standoff\":15},\"zerolinecolor\":\"white\",\"zerolinewidth\":2}}},\"xaxis\":{\"anchor\":\"y\",\"domain\":[0.0,1.0],\"title\":{\"text\":\"Neighbors\"}},\"yaxis\":{\"anchor\":\"x\",\"domain\":[0.0,1.0],\"title\":{\"text\":\"Log Test Error\"}},\"legend\":{\"tracegroupgap\":0},\"title\":{\"text\":\"Test Error for K-Nearest Neighbors Regressor with Energy\"}},                        {\"responsive\": true}                    ).then(function(){\n",
              "                            \n",
              "var gd = document.getElementById('4f1ea576-1ded-4c58-9107-d170c11cb704');\n",
              "var x = new MutationObserver(function (mutations, observer) {{\n",
              "        var display = window.getComputedStyle(gd).display;\n",
              "        if (!display || display === 'none') {{\n",
              "            console.log([gd, 'removed!']);\n",
              "            Plotly.purge(gd);\n",
              "            observer.disconnect();\n",
              "        }}\n",
              "}});\n",
              "\n",
              "// Listen for the removal of the full notebook cells\n",
              "var notebookContainer = gd.closest('#notebook-container');\n",
              "if (notebookContainer) {{\n",
              "    x.observe(notebookContainer, {childList: true});\n",
              "}}\n",
              "\n",
              "// Listen for the clearing of the current output cell\n",
              "var outputEl = gd.closest('.output');\n",
              "if (outputEl) {{\n",
              "    x.observe(outputEl, {childList: true});\n",
              "}}\n",
              "\n",
              "                        })                };                            </script>        </div>\n",
              "</body>\n",
              "</html>"
            ]
          },
          "metadata": {}
        }
      ]
    },
    {
      "cell_type": "markdown",
      "source": [
        "Test error is lowest for 45 neighbors"
      ],
      "metadata": {
        "id": "5Gfot_E1Snta"
      }
    },
    {
      "cell_type": "markdown",
      "source": [
        "### Linear Regression"
      ],
      "metadata": {
        "id": "LS_3ezYL5KOR"
      }
    },
    {
      "cell_type": "code",
      "source": [
        "pipeline = make_pipeline(\n",
        "      StandardScaler(),\n",
        "      LinearRegression()\n",
        "  )\n",
        "-cross_val_score(\n",
        "    pipeline,\n",
        "    X=energy_X,\n",
        "    y=energy_y,\n",
        "    scoring=\"neg_root_mean_squared_error\",\n",
        "    cv=10\n",
        ").mean()"
      ],
      "metadata": {
        "colab": {
          "base_uri": "https://localhost:8080/"
        },
        "id": "Fq8CMHT15L7S",
        "outputId": "b2c6d56f-1d26-4928-e361-9c1ea21c326d"
      },
      "execution_count": 27,
      "outputs": [
        {
          "output_type": "execute_result",
          "data": {
            "text/plain": [
              "786714386.2282263"
            ]
          },
          "metadata": {},
          "execution_count": 27
        }
      ]
    },
    {
      "cell_type": "code",
      "source": [
        "no_energy_y_log = np.log10(no_energy_y)\n",
        "pipeline = make_pipeline(\n",
        "      StandardScaler(),\n",
        "      LinearRegression()\n",
        "  )\n",
        "-cross_val_score(\n",
        "    pipeline,\n",
        "    X=energy_X,\n",
        "    y=energy_y_log,\n",
        "    scoring=\"neg_root_mean_squared_error\",\n",
        "    cv=10\n",
        ").mean()"
      ],
      "metadata": {
        "colab": {
          "base_uri": "https://localhost:8080/"
        },
        "id": "7rzM3VLl5hFj",
        "outputId": "437c0a0b-4eb8-48c5-9193-e60d53446e61"
      },
      "execution_count": 28,
      "outputs": [
        {
          "output_type": "execute_result",
          "data": {
            "text/plain": [
              "0.4233911748629192"
            ]
          },
          "metadata": {},
          "execution_count": 28
        }
      ]
    },
    {
      "cell_type": "markdown",
      "source": [
        "### Simple Ensemble"
      ],
      "metadata": {
        "id": "Lerufsfz5MYv"
      }
    },
    {
      "cell_type": "code",
      "source": [
        "-cross_val_score(\n",
        "    Voter,\n",
        "    X=energy_X,\n",
        "    y=energy_y,\n",
        "    scoring=\"neg_root_mean_squared_error\",\n",
        "    cv=10\n",
        ").mean()"
      ],
      "metadata": {
        "colab": {
          "base_uri": "https://localhost:8080/"
        },
        "id": "sju6z8E05Wfa",
        "outputId": "844b82d0-2dcd-4e4c-efe1-e1a00d51c31b"
      },
      "execution_count": 29,
      "outputs": [
        {
          "output_type": "execute_result",
          "data": {
            "text/plain": [
              "554765817.2341408"
            ]
          },
          "metadata": {},
          "execution_count": 29
        }
      ]
    },
    {
      "cell_type": "code",
      "source": [
        "-cross_val_score(\n",
        "    Stack,\n",
        "    X=energy_X,\n",
        "    y=energy_y,\n",
        "    scoring=\"neg_root_mean_squared_error\",\n",
        "    cv=10\n",
        ").mean()"
      ],
      "metadata": {
        "colab": {
          "base_uri": "https://localhost:8080/"
        },
        "id": "T2RPkWra5x13",
        "outputId": "2b763319-11db-4151-e31d-385009d1c120"
      },
      "execution_count": 30,
      "outputs": [
        {
          "output_type": "execute_result",
          "data": {
            "text/plain": [
              "2074944649688378.0"
            ]
          },
          "metadata": {},
          "execution_count": 30
        }
      ]
    },
    {
      "cell_type": "code",
      "source": [
        "-cross_val_score(\n",
        "    Voter,\n",
        "    X=energy_X,\n",
        "    y=energy_y_log,\n",
        "    scoring=\"neg_root_mean_squared_error\",\n",
        "    cv=10\n",
        ").mean()"
      ],
      "metadata": {
        "colab": {
          "base_uri": "https://localhost:8080/"
        },
        "id": "p4qlai_i5xwl",
        "outputId": "0676b52c-13ca-4d21-9ed0-73903f0c8b5d"
      },
      "execution_count": 31,
      "outputs": [
        {
          "output_type": "execute_result",
          "data": {
            "text/plain": [
              "0.37375262473283855"
            ]
          },
          "metadata": {},
          "execution_count": 31
        }
      ]
    },
    {
      "cell_type": "code",
      "source": [
        "-cross_val_score(\n",
        "    Stack,\n",
        "    X=energy_X,\n",
        "    y=energy_y_log,\n",
        "    scoring=\"neg_root_mean_squared_error\",\n",
        "    cv=10\n",
        ").mean()"
      ],
      "metadata": {
        "colab": {
          "base_uri": "https://localhost:8080/"
        },
        "id": "wk3Ffn7L5xpR",
        "outputId": "bf6463cb-fed6-4289-c994-dbd80e106813"
      },
      "execution_count": 32,
      "outputs": [
        {
          "output_type": "execute_result",
          "data": {
            "text/plain": [
              "0.38475092006757355"
            ]
          },
          "metadata": {},
          "execution_count": 32
        }
      ]
    },
    {
      "cell_type": "markdown",
      "source": [
        "### XGBoost"
      ],
      "metadata": {
        "id": "xpwqKz9O5YFn"
      }
    },
    {
      "cell_type": "code",
      "source": [
        "pipeline = make_pipeline(\n",
        "      StandardScaler(),\n",
        "      XGBRegressor()\n",
        "  )\n",
        "-cross_val_score(\n",
        "    pipeline,\n",
        "    X=energy_X,\n",
        "    y=energy_y,\n",
        "    scoring=\"neg_root_mean_squared_error\",\n",
        "    cv=10\n",
        ").mean()"
      ],
      "metadata": {
        "colab": {
          "base_uri": "https://localhost:8080/"
        },
        "id": "ZCLZeGR15Zx1",
        "outputId": "04ea9860-7b61-4c27-9f67-2783ec430c05"
      },
      "execution_count": 33,
      "outputs": [
        {
          "output_type": "execute_result",
          "data": {
            "text/plain": [
              "637011817.307306"
            ]
          },
          "metadata": {},
          "execution_count": 33
        }
      ]
    },
    {
      "cell_type": "code",
      "source": [
        "params = {\"xgbregressor__eta\":uniform(0.01, 0.2),\n",
        "          \"xgbregressor__n_estimators\":randint(100, 500),\n",
        "          \"xgbregressor__max_depth\":randint(3, 10),\n",
        "          \"xgbregressor__min_child_weight\":uniform(3, 20),\n",
        "          \"xgbregressor__reg_alpha\":uniform(0.01, 0.2),\n",
        "          \"xgbregressor__reg_lambda\":uniform(0.01, 0.2)}\n",
        "\n",
        "rscv = RandomizedSearchCV(\n",
        "    pipeline,\n",
        "    params,\n",
        "    n_iter=100,\n",
        "    scoring=\"neg_root_mean_squared_error\",\n",
        "    n_jobs=2,\n",
        "    cv=10\n",
        ")\n",
        "\n",
        "rscv.fit(energy_X, energy_y)\n",
        "\n",
        "-rscv.best_score_, rscv.best_params_"
      ],
      "metadata": {
        "colab": {
          "base_uri": "https://localhost:8080/"
        },
        "id": "hwODQJme5-3Z",
        "outputId": "f20848ce-c1fe-4997-8bd3-fab9efcf2ef4"
      },
      "execution_count": 34,
      "outputs": [
        {
          "output_type": "execute_result",
          "data": {
            "text/plain": [
              "(529319164.9998269,\n",
              " {'xgbregressor__eta': 0.15400046627728453,\n",
              "  'xgbregressor__max_depth': 5,\n",
              "  'xgbregressor__min_child_weight': 22.261072499801944,\n",
              "  'xgbregressor__n_estimators': 226,\n",
              "  'xgbregressor__reg_alpha': 0.11829362552205923,\n",
              "  'xgbregressor__reg_lambda': 0.04359796187841886})"
            ]
          },
          "metadata": {},
          "execution_count": 34
        }
      ]
    },
    {
      "cell_type": "code",
      "source": [
        "pipeline = make_pipeline(\n",
        "      StandardScaler(),\n",
        "      XGBRegressor()\n",
        "  )\n",
        "-cross_val_score(\n",
        "    pipeline,\n",
        "    X=energy_X,\n",
        "    y=energy_y_log,\n",
        "    scoring=\"neg_root_mean_squared_error\",\n",
        "    cv=10\n",
        ").mean()"
      ],
      "metadata": {
        "colab": {
          "base_uri": "https://localhost:8080/"
        },
        "id": "sP_Wv4Bp5-zg",
        "outputId": "4a3d02d2-d71e-4a93-d101-7319ece16004"
      },
      "execution_count": 35,
      "outputs": [
        {
          "output_type": "execute_result",
          "data": {
            "text/plain": [
              "0.26846817390691047"
            ]
          },
          "metadata": {},
          "execution_count": 35
        }
      ]
    },
    {
      "cell_type": "code",
      "source": [
        "params = {\"xgbregressor__eta\":uniform(0.01, 0.2),\n",
        "          \"xgbregressor__n_estimators\":randint(100, 500),\n",
        "          \"xgbregressor__max_depth\":randint(3, 10),\n",
        "          \"xgbregressor__min_child_weight\":uniform(3, 20),\n",
        "          \"xgbregressor__reg_alpha\":uniform(0.01, 0.2),\n",
        "          \"xgbregressor__reg_lambda\":uniform(0.01, 0.2)}\n",
        "\n",
        "rscv = RandomizedSearchCV(\n",
        "    pipeline,\n",
        "    params,\n",
        "    n_iter=100,\n",
        "    scoring=\"neg_root_mean_squared_error\",\n",
        "    n_jobs=2,\n",
        "    cv=10\n",
        ")\n",
        "\n",
        "rscv.fit(energy_X, energy_y_log)\n",
        "\n",
        "-rscv.best_score_, rscv.best_params_"
      ],
      "metadata": {
        "colab": {
          "base_uri": "https://localhost:8080/"
        },
        "id": "epOuIevs5-uh",
        "outputId": "7d597f79-3d89-4326-fe29-fe7a76519fed"
      },
      "execution_count": 36,
      "outputs": [
        {
          "output_type": "execute_result",
          "data": {
            "text/plain": [
              "(0.2587638665493514,\n",
              " {'xgbregressor__eta': 0.1353103977798682,\n",
              "  'xgbregressor__max_depth': 3,\n",
              "  'xgbregressor__min_child_weight': 19.88381150895329,\n",
              "  'xgbregressor__n_estimators': 285,\n",
              "  'xgbregressor__reg_alpha': 0.12164817160295653,\n",
              "  'xgbregressor__reg_lambda': 0.19695339589192953})"
            ]
          },
          "metadata": {},
          "execution_count": 36
        }
      ]
    },
    {
      "cell_type": "code",
      "source": [
        "np.sqrt(((energy_y_log - energy_y_log.mean()) ** 2).mean())"
      ],
      "metadata": {
        "colab": {
          "base_uri": "https://localhost:8080/"
        },
        "id": "FgpZqTv14O1D",
        "outputId": "25d8f3ea-09e0-4e24-82a4-cb6bd175172b"
      },
      "execution_count": 37,
      "outputs": [
        {
          "data": {
            "text/plain": [
              "0.5918422657788786"
            ]
          },
          "execution_count": 37,
          "metadata": {},
          "output_type": "execute_result"
        }
      ]
    }
  ],
  "metadata": {
    "colab": {
      "provenance": [],
      "toc_visible": true
    },
    "kernelspec": {
      "display_name": "Python 3",
      "name": "python3"
    },
    "language_info": {
      "name": "python"
    }
  },
  "nbformat": 4,
  "nbformat_minor": 0
}